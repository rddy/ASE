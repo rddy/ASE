{
 "cells": [
  {
   "cell_type": "code",
   "execution_count": null,
   "metadata": {
    "scrolled": true
   },
   "outputs": [],
   "source": [
    "%load_ext autoreload\n",
    "%autoreload 2"
   ]
  },
  {
   "cell_type": "code",
   "execution_count": null,
   "metadata": {
    "scrolled": true
   },
   "outputs": [],
   "source": [
    "from __future__ import division\n",
    "\n",
    "import pickle\n",
    "import os\n",
    "from collections import defaultdict\n",
    "import types\n",
    "\n",
    "import numpy as np\n",
    "import pandas as pd\n",
    "from statsmodels.stats.anova import AnovaRM\n",
    "import statsmodels.api as sm\n",
    "\n",
    "from sensei.envs import GridWorldNavEnv, GuideEnv\n",
    "from sensei import utils\n",
    "from sensei import ase\n",
    "from sensei.gw_user_study import HumanGridWorldUser\n",
    "from sensei.guide_models import GridWorldGuide"
   ]
  },
  {
   "cell_type": "code",
   "execution_count": null,
   "metadata": {
    "scrolled": false
   },
   "outputs": [],
   "source": [
    "from matplotlib import pyplot as plt\n",
    "import matplotlib as mpl\n",
    "%matplotlib inline\n",
    "\n",
    "mpl.rcParams.update({'font.size': 18})"
   ]
  },
  {
   "cell_type": "code",
   "execution_count": null,
   "metadata": {},
   "outputs": [],
   "source": [
    "data_dir = utils.gw_human_data_dir\n",
    "fig_dir = os.path.join(data_dir, 'figures')\n",
    "if not os.path.exists(fig_dir):\n",
    "  os.makedirs(fig_dir)\n",
    "user_ids = [str(i) for i in range(12) if str(i) in os.listdir(data_dir)]"
   ]
  },
  {
   "cell_type": "code",
   "execution_count": null,
   "metadata": {},
   "outputs": [],
   "source": [
    "baseline_guide_evals_of_user = {}\n",
    "train_logs_of_user = {}\n",
    "for user_id in user_ids:\n",
    "  user_data_dir = os.path.join(data_dir, user_id)\n",
    "  \n",
    "  baselines_eval_path = os.path.join(user_data_dir, 'guide_evals.pkl')\n",
    "  with open(baselines_eval_path, 'rb') as f:\n",
    "    baseline_guide_evals = pickle.load(f)\n",
    "  \n",
    "  train_logs_path = os.path.join(user_data_dir, 'train_logs.pkl')\n",
    "  with open(train_logs_path, 'rb') as f:\n",
    "    train_logs = pickle.load(f)\n",
    "    \n",
    "  baseline_guide_evals_of_user[user_id] = baseline_guide_evals\n",
    "  train_logs_of_user[user_data_dir] = train_logs"
   ]
  },
  {
   "cell_type": "code",
   "execution_count": null,
   "metadata": {},
   "outputs": [],
   "source": [
    "perf_of_guide = {}\n",
    "rollouts_of_guide = defaultdict(list)\n",
    "for user_id, baseline_guide_evals in baseline_guide_evals_of_user.items():\n",
    "  for guide_name, guide_eval in baseline_guide_evals.items():\n",
    "    rollouts = guide_eval['rollouts']\n",
    "    rollouts_of_guide[guide_name].extend(rollouts)\n",
    "\n",
    "for guide_name, guide_eval_rollouts in rollouts_of_guide.items():\n",
    "  perf = utils.compute_perf_metrics(guide_eval_rollouts, None, max_ep_len=25)\n",
    "  perf_of_guide[guide_name] = perf"
   ]
  },
  {
   "cell_type": "code",
   "execution_count": null,
   "metadata": {},
   "outputs": [],
   "source": [
    "plt.xlabel('Time')\n",
    "plt.ylabel('Distance to Goal')\n",
    "plt.title('2D Navigation')\n",
    "for guide_name in ['iden', 'naive', 'learned']:\n",
    "  perf = perf_of_guide[guide_name]\n",
    "  tilts = perf['dist_to_goal_t']\n",
    "  tilt_stderrs = perf['dist_to_goal_stderr_t']\n",
    "  label = utils.label_of_guide[guide_name]\n",
    "  color = utils.color_of_guide[guide_name]\n",
    "  xs = np.arange(0, len(tilts), 1)\n",
    "  ys = np.array(tilts)\n",
    "  yerrs = np.array(tilt_stderrs)\n",
    "  y_mins = ys - yerrs\n",
    "  y_maxs = ys + yerrs\n",
    "  plt.fill_between(\n",
    "    xs,\n",
    "    y_mins,\n",
    "    y_maxs,\n",
    "    where=y_maxs >= y_mins,\n",
    "    interpolate=False,\n",
    "    label=label,\n",
    "    color=color,\n",
    "    alpha=0.5)\n",
    "  plt.plot(xs, ys, color=color)\n",
    "plt.legend(loc='upper right', prop={'size': 18})\n",
    "plt.savefig(os.path.join(fig_dir, 'gw-user-study.pdf'), bbox_inches='tight')\n",
    "plt.show()"
   ]
  },
  {
   "cell_type": "code",
   "execution_count": null,
   "metadata": {},
   "outputs": [],
   "source": [
    "n_users = len(baseline_guide_evals_of_user)\n",
    "depvar = 'response'\n",
    "subject = 'user_id'\n",
    "within = 'condition'\n",
    "metrics = ['rollout_len']\n",
    "for metric in metrics:\n",
    "  rows = []\n",
    "  for user_id, baseline_guide_evals in baseline_guide_evals_of_user.items():\n",
    "    rows.append({subject: user_id, depvar: baseline_guide_evals['iden']['perf'][metric], within: 'unassisted'})\n",
    "    rows.append({subject: user_id, depvar: baseline_guide_evals['learned']['perf'][metric], within: 'assisted'})\n",
    "  data = pd.DataFrame(rows)\n",
    "  aovrm = AnovaRM(data=data, depvar=depvar, subject=subject, within=[within])\n",
    "  res = aovrm.fit()\n",
    "  print(res)"
   ]
  },
  {
   "cell_type": "code",
   "execution_count": null,
   "metadata": {},
   "outputs": [],
   "source": [
    "questions = [\n",
    "  'I was often able to infer my current position and orientation',\n",
    "  'I was often able to move toward the goal',\n",
    "  'I often found the guidance helpful',\n",
    "  'I relied primarily on the most recent guidance to infer my current position and orientation',\n",
    "  'I relied primarily on past guidance and recent movements to infer my current position and orientation',\n",
    "  'I often forgot which position and orientation I believed was in'\n",
    "]"
   ]
  },
  {
   "cell_type": "code",
   "execution_count": null,
   "metadata": {},
   "outputs": [],
   "source": [
    "responses = [\n",
    "  [[6, 5, 6, 4, 7, 5], [6, 6, 6, 7, 4, 7], [7, 7, 7, 7, 3, 1]],\n",
    "  [[7, 6, 7, 7, 3, 2], [5, 5, 4, 3, 6, 5], [7, 7, 7, 7, 3, 1]],\n",
    "  [[5, 6, 6, 6, 4, 4], [6, 6, 6, 6, 5, 3], [7, 7, 7, 6, 5, 1]],\n",
    "  [[6, 6, 6, 6, 2, 4], [6, 6, 6, 6, 3, 4], [7, 7, 7, 7, 2, 1]],\n",
    "  [[2, 3, 6, 5, 6, 5], [6, 6, 6, 5, 6, 2], [7, 7, 7, 5, 7, 1]],\n",
    "  [[5, 5, 7, 6, 6, 3], [6, 6, 6, 6, 6, 1], [7, 7, 7, 7, 6, 1]],\n",
    "  [[6, 6, 6, 1, 6, 1], [6, 6, 6, 1, 6, 2], [7, 7, 7, 1, 6, 1]],\n",
    "  [[6, 6, 6, 2, 6, 2], [5, 6, 5, 4, 6, 3], [7, 7, 7, 7, 5, 2]],\n",
    "  [[5, 4, 4, 3, 6, 3], [4, 4, 3, 2, 6, 3], [6, 6, 7, 4, 6, 2]],\n",
    "  [[6, 7, 6, 5, 5, 5], [6, 7, 6, 5, 5, 4], [7, 7, 6, 6, 4, 4]],\n",
    "  [[7, 7, 7, 4, 4, 1], [7, 4, 7, 6, 6, 2], [7, 7, 7, 7, 2, 1]],\n",
    "  [[5, 5, 5, 4, 4, 3], [5, 5, 5, 4, 5, 3], [6, 6, 7, 6, 3, 1]],\n",
    "]"
   ]
  },
  {
   "cell_type": "code",
   "execution_count": null,
   "metadata": {},
   "outputs": [],
   "source": [
    "n_users = len(responses)\n",
    "n_phases = len(responses[0])\n",
    "responses_of_q = [[[np.nan for _ in range(n_users)] for _ in questions] for _ in range(n_phases)]\n",
    "for phase_idx in range(n_phases):\n",
    "  for user_idx, user_responses in enumerate(responses):\n",
    "    for q_idx, response in enumerate(responses[user_idx][phase_idx]):\n",
    "      responses_of_q[phase_idx][q_idx][user_idx] = response"
   ]
  },
  {
   "cell_type": "code",
   "execution_count": null,
   "metadata": {
    "scrolled": false
   },
   "outputs": [],
   "source": [
    "# one-way repeated measures ANOVA with the presence of assistance as a factor influencing responses\n",
    "n_users = len(responses)\n",
    "depvar = 'response'\n",
    "subject = 'user_id'\n",
    "within = 'condition'\n",
    "assistant_labels = [\n",
    "  '\\\\multirow{4}{*}{\\\\rotatebox[origin=c]{90}{Naive ASE}}',\n",
    "  '\\\\multirow{4}{*}{\\\\rotatebox[origin=c]{90}{ASE}}'\n",
    "]\n",
    "for assisted_phase in [1, 2]:\n",
    "  for i, q in enumerate(questions):\n",
    "    if i == 0:\n",
    "      assistant_label = assistant_labels[assisted_phase-1]\n",
    "    else:\n",
    "      assistant_label = ''\n",
    "    rows = []\n",
    "    for user_id in user_ids:\n",
    "      user_id = int(user_id)\n",
    "      rows.append({subject: user_id, depvar: responses_of_q[0][i][user_id], within: 'unassisted'})\n",
    "      rows.append({subject: user_id, depvar: responses_of_q[assisted_phase][i][user_id], within: 'assisted'})\n",
    "    data = pd.DataFrame(rows)\n",
    "    aovrm = AnovaRM(data=data, depvar=depvar, subject=subject, within=[within])\n",
    "    res = aovrm.fit()\n",
    "    p = res.anova_table['Pr > F'].values[0]\n",
    "    print('%s & %s & $%s%s%s$ & %0.2f & %s%0.2f%s \\\\\\\\' % (assistant_label, q, '\\\\mathbf{' if p < 0.05 else '', utils.discretize_p_value(p), '}' if p < 0.05 else '', np.nanmean(responses_of_q[0][i]), '\\\\textbf{' if p < 0.05 else '', np.nanmean(responses_of_q[assisted_phase][i]), '}' if p < 0.05 else ''))\n",
    "  if assisted_phase == 1:\n",
    "    print('\\midrule')"
   ]
  },
  {
   "cell_type": "code",
   "execution_count": null,
   "metadata": {},
   "outputs": [],
   "source": [
    "guide_names = ['prac', 'iden', 'learned']\n",
    "n_rollouts_of_guide = {\n",
    "  'prac': 3,\n",
    "  'iden': 5,\n",
    "  'learned': 5\n",
    "}\n",
    "perfs_of_guide = {guide_name: [[] for _ in range(n_rollouts)] for guide_name, n_rollouts in n_rollouts_of_guide.items()}\n",
    "for guide_name, n_rollouts in n_rollouts_of_guide.items():\n",
    "  for i in range(n_rollouts):\n",
    "    for baseline_guide_evals in baseline_guide_evals_of_user.values():\n",
    "      rollouts = [baseline_guide_evals[guide_name]['rollouts'][i]]\n",
    "      if guide_name == 'iden':\n",
    "        rollouts.append(baseline_guide_evals['naive']['rollouts'][i])\n",
    "      for rollout in rollouts:\n",
    "        perf = utils.compute_perf_metrics(rollouts, None, max_ep_len=25)\n",
    "        perfs_of_guide[guide_name][i].append(perf)"
   ]
  },
  {
   "cell_type": "code",
   "execution_count": null,
   "metadata": {},
   "outputs": [],
   "source": [
    "metric = 'rollout_len'\n",
    "plt.xlabel('Episode Number')\n",
    "plt.ylabel(utils.label_of_perf_met[metric])\n",
    "plt.title('2D Navigation')\n",
    "guide_names = ['iden', 'learned']\n",
    "for i, guide_name in enumerate(guide_names):\n",
    "  perfs = perfs_of_guide[guide_name]\n",
    "  all_perfs = [user_perf[metric] for perf in perfs for user_perf in perf]\n",
    "  if guide_name == 'learned':\n",
    "    label = 'ASE (Our Method)'\n",
    "  elif guide_name == 'iden':\n",
    "    label = 'Unassisted + Naive ASE (counterbalanced)'\n",
    "  else:\n",
    "    label = utils.label_of_guide[guide_name]\n",
    "  color = utils.color_of_guide[guide_name]\n",
    "  shift = sum(len(perfs_of_guide[guide_names[j]]) for j in range(i))\n",
    "  n_users = len(perfs[0])\n",
    "  xs = np.tile(np.arange(1 + shift, 1 + len(perfs) + shift, 1), n_users)\n",
    "  ys = np.array(all_perfs)\n",
    "  plt.scatter(xs, ys, color=color, alpha=0.25)\n",
    "  \n",
    "  results = sm.OLS(ys,sm.add_constant(xs - shift - 1)).fit()\n",
    "  X_plot = np.linspace(1, len(perfs), 100)\n",
    "  plt.plot(X_plot + shift, X_plot*results.params[1] + results.params[0], label=label, color=color, linestyle='--', linewidth=2)\n",
    "  \n",
    "  xs = np.arange(1 + shift, 1 + len(perfs) + shift, 1)\n",
    "  ys = np.array([np.mean([user_perf[metric] for user_perf in perf]) for perf in perfs])\n",
    "  stderr = lambda x: np.std(x) / np.sqrt(len(x))\n",
    "  yerrs = np.array([stderr([user_perf[metric] for user_perf in perf]) for perf in perfs])\n",
    "  \n",
    "plt.legend(loc='upper left', prop={'size': 12}, bbox_to_anchor=(0.025, -0.2))\n",
    "plt.savefig(os.path.join(fig_dir, 'gw-user-study-learning-effect.pdf'), bbox_inches='tight')\n",
    "plt.show()"
   ]
  },
  {
   "cell_type": "code",
   "execution_count": null,
   "metadata": {},
   "outputs": [],
   "source": []
  },
  {
   "cell_type": "code",
   "execution_count": null,
   "metadata": {},
   "outputs": [],
   "source": [
    "gw_size = 5\n",
    "n_goals = gw_size**2\n",
    "n_states = 4*gw_size**2\n",
    "n_objes_per_set = gw_size**2\n",
    "n_obj_instances_of_set = [1, 2, 1]\n",
    "n_obj_sets = len(n_obj_instances_of_set)\n",
    "n_objes = n_objes_per_set*n_obj_sets\n",
    "n_obses = n_objes + n_obj_sets\n",
    "ground_truth = np.zeros((n_obses, n_states))\n",
    "ticks = np.arange(0, gw_size, 1)\n",
    "poses = utils.enumerate_gw_poses(ticks, ticks)\n",
    "poses_of_obs = [[] for _ in range(n_obses)]\n",
    "for obj_set in range(n_obj_sets):\n",
    "  for obj in range(n_objes_per_set):\n",
    "    obs = obj_set*(n_objes_per_set+1)+obj\n",
    "    obj_poses = [poses[obj*4]]\n",
    "    for i in range(1, n_obj_instances_of_set[obj_set]):\n",
    "      obj_poses.append(poses[np.random.choice(list(range(n_objes_per_set)))*4])\n",
    "    poses_of_obs[obs] = obj_poses\n",
    "    for obj_pos in obj_poses:\n",
    "      for state, user_pos in enumerate(poses):\n",
    "        conds = []\n",
    "        conds.append(obj_pos[0] == user_pos[0] and obj_pos[1] == user_pos[1] + 1 and user_pos[2] == 2)\n",
    "        conds.append(obj_pos[0] == user_pos[0] and obj_pos[1] == user_pos[1] - 1 and user_pos[2] == 0)\n",
    "        conds.append(obj_pos[1] == user_pos[1] and obj_pos[0] == user_pos[0] + 1 and user_pos[2] == 3)\n",
    "        conds.append(obj_pos[1] == user_pos[1] and obj_pos[0] == user_pos[0] - 1 and user_pos[2] == 1)\n",
    "        if any(conds):\n",
    "          ground_truth[obs, state] = 1\n",
    "\n",
    "for obj_set in range(n_obj_sets):\n",
    "  obs = obj_set*(n_objes_per_set+1)+n_objes_per_set\n",
    "  for state, user_pos in enumerate(poses):\n",
    "    conds = []\n",
    "    conds.append(user_pos[0] == 0 and user_pos[2] == 1)\n",
    "    conds.append(user_pos[0] == gw_size - 1 and user_pos[2] == 3)\n",
    "    conds.append(user_pos[1] == 0 and user_pos[2] == 0)\n",
    "    conds.append(user_pos[1] == gw_size - 1 and user_pos[2] == 2)\n",
    "    if any(conds):\n",
    "      ground_truth[obs, state] = 1\n",
    "\n",
    "ground_truth = utils.smooth_matrix(ground_truth, n_states, eps=1e-6)\n",
    "ground_truth_obs_model = np.log(ground_truth)\n",
    "\n",
    "max_ep_len = gw_size**2\n",
    "env = GridWorldNavEnv(\n",
    "  gw_size=gw_size,\n",
    "  n_goals=n_goals,\n",
    "  max_ep_len=max_ep_len,\n",
    "  ground_truth_obs_model=ground_truth_obs_model\n",
    ")"
   ]
  },
  {
   "cell_type": "code",
   "execution_count": null,
   "metadata": {},
   "outputs": [],
   "source": [
    "env.n_objes_per_set = n_objes_per_set\n",
    "env.n_obj_sets = n_obj_sets\n",
    "def is_obs_informative(self, obs):\n",
    "  n_uninf_obses = self.n_obses // self.n_obj_sets\n",
    "  return obs >= n_uninf_obses\n",
    "env.is_obs_informative = types.MethodType(is_obs_informative, env)\n",
    "\n",
    "env.practice = False\n",
    "def set_practice_mode(self, mode):\n",
    "  self.practice = mode\n",
    "env.set_practice_mode = types.MethodType(set_practice_mode, env)"
   ]
  },
  {
   "cell_type": "code",
   "execution_count": null,
   "metadata": {},
   "outputs": [],
   "source": [
    "sess = utils.make_tf_session(gpu_mode=False)"
   ]
  },
  {
   "cell_type": "code",
   "execution_count": null,
   "metadata": {},
   "outputs": [],
   "source": [
    "masked_obses = np.arange(0, env.n_obses // env.n_obj_sets, 1)\n",
    "internal = np.exp(env.ground_truth_obs_model)\n",
    "obs_weights = np.ones(env.n_obses)\n",
    "for obs in masked_obses:\n",
    "  obs_weights[obs] = 1e-6\n",
    "internal = utils.smooth_matrix(internal, env.n_obses, eps=(1-obs_weights[:, np.newaxis]))\n",
    "internal = np.log(internal)\n",
    "internal_obs_model = internal\n",
    "\n",
    "user_init_belief_conf = 1e-9\n",
    "\n",
    "user_model = HumanGridWorldUser(\n",
    "  env,\n",
    "  internal_obs_model,\n",
    "  env.make_dynamics_model(eps=1e-6),\n",
    "  q_func=env.Q,\n",
    "  init_belief_conf=user_init_belief_conf\n",
    ")\n",
    "guide_env = GuideEnv(env, user_model, n_obs_per_act=1)"
   ]
  },
  {
   "cell_type": "code",
   "execution_count": null,
   "metadata": {},
   "outputs": [],
   "source": [
    "def get_theta_of_user(user_id):\n",
    "  user_data_dir = os.path.join(utils.gw_human_data_dir, user_id)\n",
    "\n",
    "  init_belief_conf = 1-1e-9\n",
    "  dynamics_model = env.make_dynamics_model(eps=1e-9)\n",
    "  internal_dynamics_model = env.make_dynamics_model(eps=0.1)\n",
    "\n",
    "  tabular_obs_model_kwargs = {\n",
    "    'scope_file': os.path.join(user_data_dir, 'guide_scope.pkl'),\n",
    "    'tf_file': os.path.join(user_data_dir, 'guide.tf'),\n",
    "    'user_init_belief_conf': user_init_belief_conf,\n",
    "    'obs_params_only': True,\n",
    "    'prior_coeff': 0.,\n",
    "    'warm_start': False\n",
    "  }\n",
    "\n",
    "  guide_train_kwargs = {\n",
    "    'iterations': 1000,\n",
    "    'ftol': 1e-6,\n",
    "    'batch_size': 32,\n",
    "    'learning_rate': 1e-2,\n",
    "    'val_update_freq': 100,\n",
    "    'verbose': True,\n",
    "    'show_plots': False\n",
    "  }\n",
    "\n",
    "  guide_model = GridWorldGuide(\n",
    "    sess,\n",
    "    env,\n",
    "    env.ground_truth_obs_model,\n",
    "    dynamics_model,\n",
    "    env.Q,\n",
    "    n_obs_per_act=guide_env.n_obs_per_act,\n",
    "    prior_internal_obs_model=env.ground_truth_obs_model,\n",
    "    internal_dynamics_model=internal_dynamics_model,\n",
    "    tabular_obs_model_kwargs=tabular_obs_model_kwargs,\n",
    "    learn_internal_obs_model=True,\n",
    "    init_belief_conf=init_belief_conf,\n",
    "    user_init_belief_conf=user_init_belief_conf\n",
    "  )\n",
    "\n",
    "  guide_evals = baseline_guide_evals_of_user[user_id]\n",
    "  init_train_rollouts = guide_evals['iden']['rollouts']\n",
    "  guide_optimizer = ase.InteractiveGuideOptimizer(sess, env, guide_env)\n",
    "  guide_optimizer.run(\n",
    "    guide_model,\n",
    "    n_train_batches=0,\n",
    "    n_rollouts_per_batch=0,\n",
    "    guide_train_kwargs={'iterations': 0, 'verbose': False},\n",
    "    verbose=True,\n",
    "    init_train_rollouts=init_train_rollouts,\n",
    "    n_eval_rollouts=None\n",
    "  )\n",
    "  guide_model.load()\n",
    "  \n",
    "  theta = sess.run(guide_model.internal_obs_model.obs_weights)[0, 0, 0]\n",
    "  return theta"
   ]
  },
  {
   "cell_type": "code",
   "execution_count": null,
   "metadata": {
    "scrolled": true
   },
   "outputs": [],
   "source": [
    "thetas = [get_theta_of_user(user_id) for user_id in user_ids]"
   ]
  },
  {
   "cell_type": "code",
   "execution_count": null,
   "metadata": {},
   "outputs": [],
   "source": [
    "thetas"
   ]
  },
  {
   "cell_type": "code",
   "execution_count": null,
   "metadata": {},
   "outputs": [],
   "source": [
    "plt.title('2D Navigation')\n",
    "plt.xlabel(r'Learned Model of User Bias $\\hat{\\theta}$')\n",
    "plt.ylabel('Number of Users')\n",
    "plt.hist(thetas, bins=20, color='orange', label='ASE (Our Method)', align='left')\n",
    "plt.hist(np.ones(len(thetas)), bins=20, color='teal', label='Naive ASE (Baseline)', align='left')\n",
    "plt.axvline(x=0, linestyle='--', color='black', label='Ground Truth')\n",
    "plt.xlim([-0.1, 1.1])\n",
    "plt.yticks(range(0, 14, 2))\n",
    "plt.legend(loc='upper center')\n",
    "plt.savefig(os.path.join(fig_dir, 'gw-learned-theta.pdf'), bbox_inches='tight', dpi=500)\n",
    "plt.show()"
   ]
  },
  {
   "cell_type": "code",
   "execution_count": null,
   "metadata": {
    "scrolled": false
   },
   "outputs": [],
   "source": []
  }
 ],
 "metadata": {
  "kernelspec": {
   "display_name": "Python 3",
   "language": "python",
   "name": "python3"
  },
  "language_info": {
   "codemirror_mode": {
    "name": "ipython",
    "version": 3
   },
   "file_extension": ".py",
   "mimetype": "text/x-python",
   "name": "python",
   "nbconvert_exporter": "python",
   "pygments_lexer": "ipython3",
   "version": "3.6.10"
  },
  "widgets": {
   "state": {},
   "version": "1.1.2"
  }
 },
 "nbformat": 4,
 "nbformat_minor": 2
}
