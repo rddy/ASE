{
 "cells": [
  {
   "cell_type": "code",
   "execution_count": null,
   "metadata": {
    "scrolled": true
   },
   "outputs": [],
   "source": [
    "%load_ext autoreload\n",
    "%autoreload 2"
   ]
  },
  {
   "cell_type": "code",
   "execution_count": null,
   "metadata": {
    "scrolled": true
   },
   "outputs": [],
   "source": [
    "from __future__ import division\n",
    "\n",
    "import pickle\n",
    "import os\n",
    "from collections import defaultdict\n",
    "from copy import deepcopy\n",
    "\n",
    "import numpy as np\n",
    "import pandas as pd\n",
    "from statsmodels.stats.anova import AnovaRM\n",
    "import statsmodels.api as sm\n",
    "import gym\n",
    "\n",
    "from sensei import utils\n",
    "from sensei import ase\n",
    "from sensei.envs import LanderEnv"
   ]
  },
  {
   "cell_type": "code",
   "execution_count": null,
   "metadata": {
    "scrolled": false
   },
   "outputs": [],
   "source": [
    "from matplotlib import pyplot as plt\n",
    "import matplotlib as mpl\n",
    "%matplotlib inline\n",
    "\n",
    "mpl.rcParams.update({'font.size': 18})"
   ]
  },
  {
   "cell_type": "code",
   "execution_count": null,
   "metadata": {
    "scrolled": true
   },
   "outputs": [],
   "source": [
    "data_dir = utils.lander_data_dir\n",
    "fig_dir = os.path.join(data_dir, 'figures')\n",
    "if not os.path.exists(fig_dir):\n",
    "  os.makedirs(fig_dir)\n",
    "user_ids = [str(i) for i in range(12) if str(i) in os.listdir(data_dir)]"
   ]
  },
  {
   "cell_type": "code",
   "execution_count": null,
   "metadata": {},
   "outputs": [],
   "source": [
    "user_ids = ['12'] # for videos"
   ]
  },
  {
   "cell_type": "code",
   "execution_count": null,
   "metadata": {},
   "outputs": [],
   "source": [
    "base_env = gym.make('LunarLander-v2')\n",
    "env = LanderEnv(base_env)"
   ]
  },
  {
   "cell_type": "code",
   "execution_count": null,
   "metadata": {
    "scrolled": true
   },
   "outputs": [],
   "source": [
    "baseline_guide_evals_of_user = {}\n",
    "train_logs_of_user = {}\n",
    "for user_id in user_ids:\n",
    "  user_data_dir = os.path.join(data_dir, user_id)\n",
    "  \n",
    "  baselines_eval_path = os.path.join(user_data_dir, 'guide_evals.pkl')\n",
    "  with open(baselines_eval_path, 'rb') as f:\n",
    "    baseline_guide_evals = pickle.load(f)\n",
    "  \n",
    "  train_logs_path = os.path.join(user_data_dir, 'train_logs.pkl')\n",
    "  with open(train_logs_path, 'rb') as f:\n",
    "    train_logs = pickle.load(f)\n",
    "    \n",
    "  baseline_guide_evals_of_user[user_id] = baseline_guide_evals\n",
    "  train_logs_of_user[user_data_dir] = train_logs"
   ]
  },
  {
   "cell_type": "code",
   "execution_count": null,
   "metadata": {},
   "outputs": [],
   "source": [
    "def update_metrics(rollout):\n",
    "  for t, x in enumerate(rollout):\n",
    "    x = list(x)\n",
    "    tilt = x[-1]['tilt']\n",
    "    x[-1]['tilt'] = tilt if x[-1].get('agent_obs', x[1][1])[1] > 0 else np.nan\n",
    "    rollout[t] = tuple(x)\n",
    "  return rollout"
   ]
  },
  {
   "cell_type": "code",
   "execution_count": null,
   "metadata": {},
   "outputs": [],
   "source": [
    "for user_id, baseline_guide_evals in baseline_guide_evals_of_user.items():\n",
    "  for guide_name, guide_eval in baseline_guide_evals.items():\n",
    "    rollouts = guide_eval['rollouts']\n",
    "    rollouts = [update_metrics(rollout) for rollout in rollouts]\n",
    "    perf = utils.compute_perf_metrics(rollouts, env)\n",
    "    baseline_guide_evals_of_user[user_id][guide_name]['perf'] = perf"
   ]
  },
  {
   "cell_type": "code",
   "execution_count": null,
   "metadata": {},
   "outputs": [],
   "source": [
    "rollouts_of_guide = defaultdict(list)\n",
    "for user_id, baseline_guide_evals in baseline_guide_evals_of_user.items():\n",
    "  for guide_name, guide_eval in baseline_guide_evals.items():\n",
    "    rollouts = guide_eval['rollouts']\n",
    "    rollouts_of_guide[guide_name].extend(rollouts)\n",
    "\n",
    "perf_of_guide = {}\n",
    "for guide_name, guide_eval_rollouts in rollouts_of_guide.items():\n",
    "  perf = utils.compute_perf_metrics(guide_eval_rollouts, env)\n",
    "  perf_of_guide[guide_name] = perf"
   ]
  },
  {
   "cell_type": "code",
   "execution_count": null,
   "metadata": {},
   "outputs": [],
   "source": [
    "rollouts = sum(list(rollouts_of_guide.values()), [])\n",
    "ts = []\n",
    "for rollout in rollouts:\n",
    "  for t, x in enumerate(rollout):\n",
    "    if x[-1].get('agent_obs', x[1][1])[1] < 0:\n",
    "      ts.append(t)\n",
    "      break\n",
    "mean_ttl = int(np.mean(ts))\n",
    "mean_ttl"
   ]
  },
  {
   "cell_type": "code",
   "execution_count": null,
   "metadata": {},
   "outputs": [],
   "source": [
    "metric = 'tilt'\n",
    "plt.xlabel('Time')\n",
    "plt.ylabel(utils.label_of_perf_met[metric])\n",
    "plt.title('Lunar Lander')\n",
    "for guide_name in ['iden', 'learned']:\n",
    "  perf = perf_of_guide[guide_name]\n",
    "  tilts = perf['%s_t' % metric][:mean_ttl]\n",
    "  tilt_stderrs = perf['%s_stderr_t' % metric][:mean_ttl]\n",
    "  if guide_name == 'learned':\n",
    "    label = 'ASE (Our Method)'\n",
    "  elif guide_name == 'iden':\n",
    "    label = 'Unassisted (Baseline)'\n",
    "  else:\n",
    "    label = utils.label_of_guide[guide_name]\n",
    "  color = utils.color_of_guide[guide_name]\n",
    "  xs = np.arange(0, len(tilts), 1)\n",
    "  ys = np.array(tilts)\n",
    "  yerrs = np.array(tilt_stderrs)\n",
    "  y_mins = ys - yerrs\n",
    "  y_maxs = ys + yerrs\n",
    "  plt.fill_between(\n",
    "    xs,\n",
    "    y_mins,\n",
    "    y_maxs,\n",
    "    where=y_maxs >= y_mins,\n",
    "    interpolate=False,\n",
    "    label=label,\n",
    "    color=color,\n",
    "    alpha=0.5)\n",
    "  plt.plot(xs, ys, color=color)\n",
    "plt.legend(loc='lower right', prop={'size': 18})\n",
    "plt.savefig(os.path.join(fig_dir, 'lander-user-study.pdf'), bbox_inches='tight')\n",
    "plt.show()"
   ]
  },
  {
   "cell_type": "code",
   "execution_count": null,
   "metadata": {},
   "outputs": [],
   "source": [
    "n_users = len(baseline_guide_evals_of_user)\n",
    "depvar = 'response'\n",
    "subject = 'user_id'\n",
    "within = 'condition'\n",
    "metrics = ['tilt']\n",
    "for metric in metrics:\n",
    "  rows = []\n",
    "  for user_id, baseline_guide_evals in baseline_guide_evals_of_user.items():\n",
    "    rows.append({subject: user_id, depvar: baseline_guide_evals['iden']['perf'][metric], within: 'unassisted'})\n",
    "    rows.append({subject: user_id, depvar: baseline_guide_evals['learned']['perf'][metric], within: 'assisted'})\n",
    "  data = pd.DataFrame(rows)\n",
    "  aovrm = AnovaRM(data=data, depvar=depvar, subject=subject, within=[within])\n",
    "  res = aovrm.fit()\n",
    "  print(res)"
   ]
  },
  {
   "cell_type": "code",
   "execution_count": null,
   "metadata": {},
   "outputs": [],
   "source": [
    "questions = [\n",
    "  'I could tell when the lander was tilted',\n",
    "  'I was able to straighten the lander before it tilted out of control'\n",
    "]"
   ]
  },
  {
   "cell_type": "code",
   "execution_count": null,
   "metadata": {},
   "outputs": [],
   "source": [
    "responses = [\n",
    "  [[7, 5], [7, 2]],\n",
    "  [[4, 3], [6, 5]],\n",
    "  [[6, 5], [6, 6]],\n",
    "  [[3, 3], [5, 4]],\n",
    "  [[6, 4], [7, 4]],\n",
    "  [[7, 4], [7, 3]],\n",
    "  [[6, 6], [6, 7]],\n",
    "  [[7, 6], [6, 6]],\n",
    "  [[5, 3], [5, 4]],\n",
    "  [[6, 5], [7, 6]],\n",
    "  [[6, 5], [7, 3]],\n",
    "  [[5, 4], [7, 5]],\n",
    "]"
   ]
  },
  {
   "cell_type": "code",
   "execution_count": null,
   "metadata": {},
   "outputs": [],
   "source": [
    "n_users = len(responses)\n",
    "n_phases = len(responses[0])\n",
    "responses_of_q = [[[np.nan for _ in range(n_users)] for _ in questions] for _ in range(n_phases)]\n",
    "for phase_idx in range(n_phases):\n",
    "  for user_idx, user_responses in enumerate(responses):\n",
    "    for q_idx, response in enumerate(responses[user_idx][phase_idx]):\n",
    "      responses_of_q[phase_idx][q_idx][user_idx] = response"
   ]
  },
  {
   "cell_type": "code",
   "execution_count": null,
   "metadata": {},
   "outputs": [],
   "source": [
    "n_users = len(responses)\n",
    "depvar = 'response'\n",
    "subject = 'user_id'\n",
    "within = 'condition'\n",
    "for i, q in enumerate(questions):\n",
    "  rows = []\n",
    "  for user_id in user_ids:\n",
    "    user_id = int(user_id)\n",
    "    rows.append({subject: user_id, depvar: responses_of_q[0][i][user_id], within: 'unassisted'})\n",
    "    rows.append({subject: user_id, depvar: responses_of_q[1][i][user_id], within: 'assisted'})\n",
    "  data = pd.DataFrame(rows)\n",
    "  aovrm = AnovaRM(data=data, depvar=depvar, subject=subject, within=[within])\n",
    "  res = aovrm.fit()\n",
    "  p = res.anova_table['Pr > F'].values[0]\n",
    "  print('%s & $%s%s%s$ & %0.2f & %s%0.2f%s \\\\\\\\' % (q, '\\\\mathbf{' if p < 0.05 else '', utils.discretize_p_value(p), '}' if p < 0.05 else '', np.nanmean(responses_of_q[0][i]), '\\\\textbf{' if p < 0.05 else '', np.nanmean(responses_of_q[1][i]), '}' if p < 0.05 else ''))"
   ]
  },
  {
   "cell_type": "code",
   "execution_count": null,
   "metadata": {},
   "outputs": [],
   "source": [
    "guide_names = ['prac', 'iden', 'learned']\n",
    "n_rollouts_of_guide = {\n",
    "  'prac': 5,\n",
    "  'iden': 10,\n",
    "  'learned': 10\n",
    "}\n",
    "perfs_of_guide = {guide_name: [[] for _ in range(n_rollouts)] for guide_name, n_rollouts in n_rollouts_of_guide.items()}\n",
    "for guide_name, n_rollouts in n_rollouts_of_guide.items():\n",
    "  for i in range(n_rollouts):\n",
    "    for baseline_guide_evals in baseline_guide_evals_of_user.values():\n",
    "      rollout = baseline_guide_evals[guide_name]['rollouts'][i]\n",
    "      perf = utils.compute_perf_metrics([rollout], env)\n",
    "      perfs_of_guide[guide_name][i].append(perf)"
   ]
  },
  {
   "cell_type": "code",
   "execution_count": null,
   "metadata": {},
   "outputs": [],
   "source": [
    "plt.xlabel('Episode Number')\n",
    "plt.ylabel('Tilt at Timestep 80')\n",
    "plt.title('Lunar Lander')\n",
    "extract_metric = lambda x: x['tilt_t'][80]\n",
    "guide_names = ['iden', 'learned']\n",
    "for i, guide_name in enumerate(guide_names):\n",
    "  perfs = perfs_of_guide[guide_name]\n",
    "  tilts = [extract_metric(user_perf) for perf in perfs for user_perf in perf]\n",
    "  if guide_name == 'learned':\n",
    "    label = 'ASE (Our Method)'\n",
    "  else:\n",
    "    label = utils.label_of_guide[guide_name]\n",
    "  color = utils.color_of_guide[guide_name]\n",
    "  shift = sum(len(perfs_of_guide[guide_names[j]]) for j in range(i))\n",
    "  n_users = len(perfs[0])\n",
    "  xs = np.tile(np.arange(1 + shift, 1 + len(perfs) + shift, 1), n_users)\n",
    "  ys = np.array(tilts)\n",
    "  plt.scatter(xs, ys, color=color, alpha=0.25)\n",
    "\n",
    "  results = sm.OLS(ys,sm.add_constant(xs - shift - 1)).fit()\n",
    "  X_plot = np.linspace(1, len(perfs), 100)\n",
    "  plt.plot(X_plot + shift, X_plot*results.params[1] + results.params[0], label=label, color=color, linestyle='--', linewidth=2)\n",
    "  \n",
    "  xs = np.arange(1 + shift, 1 + len(perfs) + shift, 1)\n",
    "  ys = np.array([np.mean([extract_metric(user_perf) for user_perf in perf]) for perf in perfs])\n",
    "  stderr = lambda x: np.std(x) / np.sqrt(len(x))\n",
    "  yerrs = np.array([stderr([extract_metric(user_perf) for user_perf in perf]) for perf in perfs])\n",
    "  \n",
    "plt.legend(loc='upper left', prop={'size': 12}, bbox_to_anchor=(0.2, -0.2))\n",
    "plt.savefig(os.path.join(fig_dir, 'lander-user-study-learning-effect.pdf'), bbox_inches='tight')\n",
    "plt.show()"
   ]
  },
  {
   "cell_type": "code",
   "execution_count": null,
   "metadata": {},
   "outputs": [],
   "source": [
    "plt.xlabel(r'Angle of Lander ($\\mathbf{o}_t$)')\n",
    "plt.ylabel(r'Angle of Tilt Indicator ($\\tilde{\\mathbf{o}}_t$)')\n",
    "plt.title('Lunar Lander')\n",
    "for guide_name in ['iden', 'learned']:\n",
    "  xs = []\n",
    "  ys = []\n",
    "  for user_id, baseline_guide_evals in baseline_guide_evals_of_user.items():\n",
    "    rollouts = baseline_guide_evals['learned']['rollouts']\n",
    "    orig_angs = []\n",
    "    shown_angs = []\n",
    "    for rollout in rollouts:\n",
    "      for x in rollout:\n",
    "        orig_angs.append(x[-1]['agent_obs'][4])\n",
    "        shown_angs.append(x[1][4])\n",
    "        \n",
    "    idxes = sorted(list(range(len(orig_angs))), key=lambda i: orig_angs[i])\n",
    "    orig_angs = [orig_angs[idx] for idx in idxes]\n",
    "    shown_angs = [shown_angs[idx] for idx in idxes]\n",
    "    \n",
    "    plt.plot(orig_angs, shown_angs, color='orange')\n",
    "    xs.extend(orig_angs)\n",
    "    ys.extend(shown_angs)\n",
    "      \n",
    "  if guide_name == 'learned':\n",
    "    label = 'ASE (Our Method)'\n",
    "  else:\n",
    "    label = utils.label_of_guide[guide_name]\n",
    "  color = utils.color_of_guide[guide_name]\n",
    "\n",
    "corner = [min(max(xs), max(ys)), max(min(xs), min(ys))]\n",
    "plt.plot(corner, corner, linestyle='--', color='gray', label='Unassisted (Baseline)')\n",
    "  \n",
    "plt.plot([0, 0], [0, 0], color='orange', label='ASE (Our Method)')\n",
    "  \n",
    "plt.legend(loc='lower right', prop={'size': 18})#, bbox_to_anchor=(0.2, -0.2))\n",
    "plt.savefig(os.path.join(fig_dir, 'lander-user-study-assistance-policy.pdf'), bbox_inches='tight')\n",
    "plt.show()"
   ]
  },
  {
   "cell_type": "code",
   "execution_count": null,
   "metadata": {},
   "outputs": [],
   "source": []
  },
  {
   "cell_type": "code",
   "execution_count": null,
   "metadata": {},
   "outputs": [],
   "source": [
    "from IPython.core.display import display\n",
    "from IPython.core.display import HTML\n",
    "from matplotlib import animation\n",
    "\n",
    "def outline_img(img, thickness=5, intensity=1):\n",
    "  img[:thickness, :] = 0\n",
    "  img[:thickness, :, 0] = intensity\n",
    "  img[-thickness:, :] = 0\n",
    "  img[-thickness:, :, 0] = intensity\n",
    "  img[:, :thickness] = 0\n",
    "  img[:, :thickness, 0] = intensity\n",
    "  img[:, -thickness:] = 0\n",
    "  img[:, -thickness:, 0] = intensity\n",
    "  return img\n",
    "\n",
    "gap = (np.ones((400, 1, 3)) * 255).astype('uint8')\n",
    "def viz_rollout(rollout, guide_name, outline=True):\n",
    "  frames = []\n",
    "  for x in rollout:\n",
    "    if x[-1].get('agent_obs', x[1])[1] < 0:\n",
    "      break\n",
    "    faded_img = x[-1]['faded_img']\n",
    "    mod_img = x[-1]['mod_img']\n",
    "    img = x[-1]['img']\n",
    "    if outline:\n",
    "      if guide_name == 'prac':\n",
    "        img = outline_img(img, thickness=5, intensity=255)\n",
    "      elif guide_name == 'iden':\n",
    "        faded_img = outline_img(faded_img, thickness=5, intensity=255)\n",
    "      elif guide_name == 'learned':\n",
    "        mod_img = outline_img(mod_img, thickness=5, intensity=255)\n",
    "    if guide_name == 'iden':\n",
    "      frame = np.concatenate((faded_img, gap, img), axis=1)\n",
    "    else:\n",
    "      frame = np.concatenate((faded_img, gap, mod_img, gap, img), axis=1)\n",
    "    frames.append(frame)\n",
    "  return frames\n",
    "\n",
    "def animate_frames(frames):\n",
    "  fig = plt.figure(figsize=(20, 10))\n",
    "  plt.axis('off')\n",
    "  ims = [[plt.imshow(frame, animated=True)] for frame in frames]\n",
    "  plt.close()\n",
    "  anim = animation.ArtistAnimation(fig, ims, interval=30, blit=True, repeat_delay=1000)\n",
    "  return anim"
   ]
  },
  {
   "cell_type": "code",
   "execution_count": null,
   "metadata": {},
   "outputs": [],
   "source": [
    "rollouts = baseline_guide_evals_of_user['12']['iden']['rollouts']\n",
    "iden_frames = []\n",
    "for rollout in rollouts:\n",
    "  iden_frames.extend(viz_rollout(rollout, guide_name='iden'))\n",
    "iden_anim = animate_frames(iden_frames)"
   ]
  },
  {
   "cell_type": "code",
   "execution_count": null,
   "metadata": {},
   "outputs": [],
   "source": [
    "display(HTML(iden_anim.to_html5_video()))"
   ]
  },
  {
   "cell_type": "code",
   "execution_count": null,
   "metadata": {},
   "outputs": [],
   "source": [
    "iden_anim.save(os.path.join(fig_dir, 'iden.mp4'))"
   ]
  },
  {
   "cell_type": "code",
   "execution_count": null,
   "metadata": {},
   "outputs": [],
   "source": [
    "rollouts = baseline_guide_evals_of_user['12']['learned']['rollouts']\n",
    "learned_frames = []\n",
    "for rollout in rollouts:\n",
    "  learned_frames.extend(viz_rollout(rollout, guide_name='learned'))\n",
    "learned_anim = animate_frames(learned_frames)"
   ]
  },
  {
   "cell_type": "code",
   "execution_count": null,
   "metadata": {},
   "outputs": [],
   "source": [
    "display(HTML(learned_anim.to_html5_video()))"
   ]
  },
  {
   "cell_type": "code",
   "execution_count": null,
   "metadata": {},
   "outputs": [],
   "source": [
    "learned_anim.save(os.path.join(fig_dir, 'learned.mp4'))"
   ]
  },
  {
   "cell_type": "code",
   "execution_count": null,
   "metadata": {},
   "outputs": [],
   "source": []
  },
  {
   "cell_type": "code",
   "execution_count": null,
   "metadata": {},
   "outputs": [],
   "source": [
    "rollouts = baseline_guide_evals_of_user['12']['iden']['rollouts']\n",
    "iden_frames = []\n",
    "for rollout in rollouts:\n",
    "  iden_frames.append(viz_rollout(rollout, guide_name='iden', outline=False))\n",
    "  \n",
    "rollouts = baseline_guide_evals_of_user['12']['learned']['rollouts']\n",
    "learned_frames = []\n",
    "for rollout in rollouts:\n",
    "  learned_frames.append(viz_rollout(rollout, guide_name='learned', outline=False))"
   ]
  },
  {
   "cell_type": "code",
   "execution_count": null,
   "metadata": {},
   "outputs": [],
   "source": [
    "frame_skip = 20\n",
    "frame_start = 50"
   ]
  },
  {
   "cell_type": "code",
   "execution_count": null,
   "metadata": {},
   "outputs": [],
   "source": [
    "def recolor_frame(frame):\n",
    "  frame[:300, :, :] = np.minimum(frame[:300, :, :], 1).astype('uint8') * (np.array([128, 128, 128])).astype('uint8')[np.newaxis, np.newaxis, :]\n",
    "  return frame"
   ]
  },
  {
   "cell_type": "code",
   "execution_count": null,
   "metadata": {},
   "outputs": [],
   "source": [
    "VIEWPORT_W = 600\n",
    "VIEWPORT_H = 400\n",
    "SCALE = 1\n",
    "LEG_DOWN = 18\n",
    "helipad_y = (VIEWPORT_H/SCALE)/4\n",
    "scale_x = lambda x: x * (VIEWPORT_W/SCALE/2) + (VIEWPORT_W/SCALE/2)\n",
    "scale_y = lambda y: y * (VIEWPORT_H/SCALE/2) + (helipad_y+LEG_DOWN/SCALE)\n",
    "\n",
    "skip_frames = lambda frames: frames[:1] + frames[frame_start:-2:frame_skip] + frames[-2:-1]\n",
    "\n",
    "def extract_traj(rollout):\n",
    "  xs = []\n",
    "  ys = []\n",
    "  angs = []\n",
    "  for rollout in rollout:\n",
    "    ep_xs = []\n",
    "    ep_ys = []\n",
    "    ep_angs = []\n",
    "    for ixn in rollout:\n",
    "      if ixn[-1].get('agent_obs', ixn[1])[1] < 0:\n",
    "        break\n",
    "      x = scale_x(ixn[-1].get('agent_obs', ixn[1])[0])\n",
    "      y = scale_y(ixn[-1].get('agent_obs', ixn[1])[1])\n",
    "      ang = ixn[-1].get('agent_obs', ixn[1])[4]\n",
    "      ep_xs.append(x)\n",
    "      ep_ys.append(y)\n",
    "      ep_angs.append(ang)\n",
    "    ep_xs = skip_frames(ep_xs)\n",
    "    ep_ys = skip_frames(ep_ys)\n",
    "    ep_angs = skip_frames(ep_angs)\n",
    "    xs.extend(ep_xs)\n",
    "    ys.extend(ep_ys)\n",
    "    angs.extend(ep_angs)\n",
    "  xs = np.array(xs)\n",
    "  ys = 400-np.array(ys)\n",
    "  angs = np.array(angs)\n",
    "  return xs, ys, angs"
   ]
  },
  {
   "cell_type": "code",
   "execution_count": null,
   "metadata": {},
   "outputs": [],
   "source": [
    "frames = [recolor_frame(frame[:, -600:, :]) for ep_frames in iden_frames for frame in skip_frames(ep_frames)]\n",
    "iden_comp_img = np.mean(np.array(frames), axis=0)\n",
    "iden_comp_img[:300, :, :] = np.minimum(128, iden_comp_img[:300, :, :] * 100)\n",
    "iden_comp_img = iden_comp_img.astype('uint8')\n",
    "\n",
    "plt.axis('off')\n",
    "plt.imshow(iden_comp_img)\n",
    "\n",
    "xs, ys, angs = extract_traj(baseline_guide_evals_of_user['12']['iden']['rollouts'])\n",
    "for x, y, ang in zip(xs, ys, angs):\n",
    "  v = np.array([1, np.tan(-ang+np.pi)])\n",
    "  v /= np.linalg.norm(v)\n",
    "  v *= 100\n",
    "  plt.plot([x-v[0], x+v[0]], [y-v[1], y+v[1]], color='gray', linewidth=2, alpha=0.75)\n",
    "  \n",
    "plt.xlim([100, 500])\n",
    "plt.ylim([0, 350])\n",
    "\n",
    "plt.savefig(os.path.join(fig_dir, 'lander-unassisted-trajs.pdf'), bbox_inches='tight', dpi=500)\n",
    "\n",
    "plt.show()"
   ]
  },
  {
   "cell_type": "code",
   "execution_count": null,
   "metadata": {},
   "outputs": [],
   "source": [
    "def recolor_frame(frame):\n",
    "  frame[:300, :, :] = np.minimum(frame[:300, :, :], 1).astype('uint8') * (np.array([255, 165, 0])).astype('uint8')[np.newaxis, np.newaxis, :]\n",
    "  return frame"
   ]
  },
  {
   "cell_type": "code",
   "execution_count": null,
   "metadata": {},
   "outputs": [],
   "source": [
    "frames = [recolor_frame(frame[:, -600:, :]) for ep_frames in learned_frames for frame in (ep_frames[:1] + ep_frames[frame_start:-2:frame_skip] + ep_frames[-2:-1])]\n",
    "learned_comp_img = np.mean(np.array(frames), axis=0)\n",
    "learned_comp_img[:300, :, 0] = np.minimum(255, learned_comp_img[:300, :, 0] * 100)\n",
    "learned_comp_img[:300, :, 1] = np.minimum(165, learned_comp_img[:300, :, 1] * 100)\n",
    "learned_comp_img[:300, :, 2] = np.minimum(0, learned_comp_img[:300, :, 2] * 100)\n",
    "learned_comp_img = learned_comp_img.astype('uint8')\n",
    "\n",
    "plt.axis('off')\n",
    "plt.imshow(learned_comp_img)\n",
    "\n",
    "xs, ys, angs = extract_traj(baseline_guide_evals_of_user['12']['learned']['rollouts'])\n",
    "for x, y, ang in zip(xs, ys, angs):\n",
    "  v = np.array([1, np.tan(-ang+np.pi)])\n",
    "  v /= np.linalg.norm(v)\n",
    "  v *= 100\n",
    "  plt.plot([x-v[0], x+v[0]], [y-v[1], y+v[1]], color='orange', linewidth=2, alpha=0.75)\n",
    "  \n",
    "plt.xlim([100, 500])\n",
    "plt.ylim([0, 350])\n",
    "\n",
    "plt.savefig(os.path.join(fig_dir, 'lander-assisted-trajs.pdf'), bbox_inches='tight', dpi=500)\n",
    "\n",
    "plt.show()"
   ]
  },
  {
   "cell_type": "code",
   "execution_count": null,
   "metadata": {},
   "outputs": [],
   "source": [
    "def recolor_frame(frame):\n",
    "  frame[:300, :, :] = np.minimum(frame[:300, :, :], 1).astype('uint8') * (np.array([128, 0, 128])).astype('uint8')[np.newaxis, np.newaxis, :]\n",
    "  return frame"
   ]
  },
  {
   "cell_type": "code",
   "execution_count": null,
   "metadata": {},
   "outputs": [],
   "source": [
    "img = recolor_frame(deepcopy(learned_frames[0][0][:300, -600:, :]))\n",
    "for i in range(img.shape[0]):\n",
    "  for j in range(img.shape[1]):\n",
    "    if np.isclose(img[i, j, :], np.zeros(3)).all():\n",
    "      img[i, j, :] = np.array([255, 255, 255]).astype('uint8')"
   ]
  },
  {
   "cell_type": "code",
   "execution_count": null,
   "metadata": {},
   "outputs": [],
   "source": [
    "plt.axis('off')\n",
    "plt.imshow(img)\n",
    "plt.savefig(os.path.join(fig_dir, 'lander-plain.pdf'), bbox_inches='tight', dpi=500)\n",
    "plt.show()"
   ]
  },
  {
   "cell_type": "code",
   "execution_count": null,
   "metadata": {},
   "outputs": [],
   "source": []
  }
 ],
 "metadata": {
  "kernelspec": {
   "display_name": "Python 3",
   "language": "python",
   "name": "python3"
  },
  "language_info": {
   "codemirror_mode": {
    "name": "ipython",
    "version": 3
   },
   "file_extension": ".py",
   "mimetype": "text/x-python",
   "name": "python",
   "nbconvert_exporter": "python",
   "pygments_lexer": "ipython3",
   "version": "3.6.10"
  },
  "widgets": {
   "state": {},
   "version": "1.1.2"
  }
 },
 "nbformat": 4,
 "nbformat_minor": 2
}
