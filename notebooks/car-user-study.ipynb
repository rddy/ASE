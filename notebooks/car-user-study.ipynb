{
 "cells": [
  {
   "cell_type": "code",
   "execution_count": null,
   "metadata": {
    "scrolled": true
   },
   "outputs": [],
   "source": [
    "%load_ext autoreload\n",
    "%autoreload 2"
   ]
  },
  {
   "cell_type": "code",
   "execution_count": null,
   "metadata": {
    "scrolled": true
   },
   "outputs": [],
   "source": [
    "from __future__ import division\n",
    "\n",
    "import pickle\n",
    "import os\n",
    "from collections import defaultdict\n",
    "\n",
    "import numpy as np\n",
    "import pandas as pd\n",
    "from statsmodels.stats.anova import AnovaRM\n",
    "import statsmodels.api as sm\n",
    "\n",
    "from sensei import utils\n",
    "from sensei import ase"
   ]
  },
  {
   "cell_type": "code",
   "execution_count": null,
   "metadata": {
    "scrolled": false
   },
   "outputs": [],
   "source": [
    "from matplotlib import pyplot as plt\n",
    "import matplotlib as mpl\n",
    "%matplotlib inline\n",
    "\n",
    "mpl.rcParams.update({'font.size': 14})"
   ]
  },
  {
   "cell_type": "code",
   "execution_count": null,
   "metadata": {
    "scrolled": true
   },
   "outputs": [],
   "source": [
    "data_dir = utils.car_human_data_dir\n",
    "fig_dir = os.path.join(data_dir, 'figures')\n",
    "if not os.path.exists(fig_dir):\n",
    "  os.makedirs(fig_dir)\n",
    "user_ids = [str(i) for i in range(12) if str(i) in os.listdir(data_dir)]"
   ]
  },
  {
   "cell_type": "code",
   "execution_count": null,
   "metadata": {
    "scrolled": true
   },
   "outputs": [],
   "source": [
    "baseline_guide_evals_of_user = {}\n",
    "for user_id in user_ids:\n",
    "  user_data_dir = os.path.join(data_dir, user_id)\n",
    "  baselines_eval_path = os.path.join(user_data_dir, 'guide_evals.pkl')\n",
    "  with open(baselines_eval_path, 'rb') as f:\n",
    "    baseline_guide_evals = pickle.load(f)\n",
    "  baseline_guide_evals_of_user[user_id] = baseline_guide_evals"
   ]
  },
  {
   "cell_type": "code",
   "execution_count": null,
   "metadata": {},
   "outputs": [],
   "source": [
    "perfs_of_guide = defaultdict(lambda: defaultdict(list))\n",
    "for user_id, baseline_guide_evals in baseline_guide_evals_of_user.items():\n",
    "  for k, v in baseline_guide_evals.items():\n",
    "    perf = v['perf']\n",
    "    for metric, val in perf.items():\n",
    "      perfs_of_guide[k][metric].append(val)"
   ]
  },
  {
   "cell_type": "code",
   "execution_count": null,
   "metadata": {},
   "outputs": [],
   "source": [
    "x_guide = 'iden'\n",
    "y_guide = 'naive'\n",
    "metric = 'return'\n",
    "metric_label = utils.label_of_perf_met[metric]\n",
    "plt.xlabel('%s of %s' % (metric_label, utils.label_of_guide[x_guide]))\n",
    "if y_guide == 'naive':\n",
    "  y_label = 'ASE (Our Method)'\n",
    "else:\n",
    "  y_label = utils.label_of_guide[y_guide]\n",
    "plt.ylabel('%s of %s' % (metric_label, y_label))\n",
    "plt.title('Car Racing')\n",
    "xs = perfs_of_guide[x_guide][metric]\n",
    "ys = perfs_of_guide[y_guide][metric]\n",
    "for x, y in zip(xs, ys):\n",
    "  plt.plot([x, x], [x, y], linestyle='dotted', color='orange', alpha=0.75, linewidth=2)\n",
    "if y_guide == 'naive':\n",
    "  color = 'orange'\n",
    "else:\n",
    "  color = utils.color_of_guide[y_guide]\n",
    "plt.scatter(xs, ys, color=color, alpha=0.75, linewidth=0, s=100)\n",
    "plt.axes().set_aspect('equal', adjustable='box')\n",
    "corner = [min(list(xs) + list(ys)), max(list(xs) + list(ys))]\n",
    "plt.plot(corner, corner, linestyle='--', color='gray')\n",
    "plt.savefig(os.path.join(fig_dir, 'car-user-study.pdf'), bbox_inches='tight')\n",
    "plt.show()"
   ]
  },
  {
   "cell_type": "code",
   "execution_count": null,
   "metadata": {},
   "outputs": [],
   "source": [
    "n_users = len(baseline_guide_evals_of_user)\n",
    "depvar = 'response'\n",
    "subject = 'user_id'\n",
    "within = 'condition'\n",
    "metrics = ['return']\n",
    "for metric in metrics:\n",
    "  rows = []\n",
    "  for user_id, baseline_guide_evals in baseline_guide_evals_of_user.items():\n",
    "    rows.append({subject: user_id, depvar: baseline_guide_evals['iden']['perf'][metric], within: 'unassisted'})\n",
    "    rows.append({subject: user_id, depvar: baseline_guide_evals['naive']['perf'][metric], within: 'assisted'})\n",
    "  data = pd.DataFrame(rows)\n",
    "  aovrm = AnovaRM(data=data, depvar=depvar, subject=subject, within=[within])\n",
    "  res = aovrm.fit()\n",
    "  print(res)"
   ]
  },
  {
   "cell_type": "code",
   "execution_count": null,
   "metadata": {},
   "outputs": [],
   "source": [
    "questions = [\n",
    "  \"I was able to keep the car on the road\",\n",
    "  \"I could anticipate the consequences of my steering actions\",\n",
    "  \"I could tell when the car was about to go off road\",\n",
    "  \"I could tell when I needed to steer to keep the car on the road\",\n",
    "  \"I was often able to determine the car's current position using the picture on the screen\",\n",
    "  \"I could tell that the picture on the screen was sometimes delayed\",\n",
    "  \"The delay made it harder to perform the task\",\n",
    "  \"The delay made it easier to perform the task\",\n",
    "  \"The lack of delay made it harder to perform the task\",\n",
    "  \"The lack of delay made it easier to perform the task\"\n",
    "]"
   ]
  },
  {
   "cell_type": "code",
   "execution_count": null,
   "metadata": {},
   "outputs": [],
   "source": [
    "responses = [\n",
    "  [[2, 3, 3, 5, 6, 7, 6, 3, 5, 2], [3, 5, 4, 3, 4, 6, 4, 4, 4, 4]],\n",
    "  [[1, 1, 1, 1, 1, 7, 7, 1, 1, 7], [2, 4, 4, 5, 4, 2, 2, 2, 4, 4]],\n",
    "  [[4, 3, 3, 3, 5, 6, 6, 2, 2, 7], [6, 5, 4, 6, 6, 6, 6, 2, 2, 6]],\n",
    "  [[1, 1, 2, 5, 2, 6, 7, 1, 1, 7], [2, 2, 3, 5, 3, 1, 6, 1, 1, 7]],\n",
    "  [[1, 2, 3, 5, 2, 7, 7, 1, 1, 7], [2, 4, 4, 3, 5, 6, 7, 1, 1, 7]],\n",
    "  [[1, 3, 3, 5, 5, 7, 7, 1, 1, 7], [4, 3, 5, 6, 5, 5, 7, 1, 1, 7]],\n",
    "  [[1, 2, 3, 3, 4, 7, 7, 1, 1, 7], [5, 6, 6, 6, 6, 5, 4, 1, 1, 7]],\n",
    "  [[2, 3, 3, 2, 2, 7, 7, 1, 1, 7], [4, 5, 4, 5, 5, 7, 6, 6, 2, 2]],\n",
    "  [[2, 2, 2, 3, 4, 7, 7, 1, 1, 7], [4, 2, 3, 4, 3, 3, 5, 1, 1, 6]],\n",
    "  [[2, 3, 6, 2, 5, 7, 5, 3, 3, 5], [5, 6, 6, 5, 6, 3, 3, 3, 3, 6]],\n",
    "  [[1, 2, 5, 1, 4, 7, 6, 2, 2, 6], [4, 4, 4, 5, 5, 2, 4, 4, 4, 4]],\n",
    "  [[2, 2, 3, 3, 2, 7, 7, 1, 3, 6], [4, 4, 5, 5, 5, 5, 4, 4, 4, 5]],\n",
    "]"
   ]
  },
  {
   "cell_type": "code",
   "execution_count": null,
   "metadata": {},
   "outputs": [],
   "source": [
    "n_users = len(responses)\n",
    "n_phases = len(responses[0])\n",
    "responses_of_q = [[[np.nan for _ in range(n_users)] for _ in questions] for _ in range(n_phases)]\n",
    "for phase_idx in range(n_phases):\n",
    "  for user_idx, user_responses in enumerate(responses):\n",
    "    for q_idx, response in enumerate(responses[user_idx][phase_idx]):\n",
    "      responses_of_q[phase_idx][q_idx][user_idx] = response"
   ]
  },
  {
   "cell_type": "code",
   "execution_count": null,
   "metadata": {},
   "outputs": [],
   "source": [
    "n_users = len(responses)\n",
    "depvar = 'response'\n",
    "subject = 'user_id'\n",
    "within = 'condition'\n",
    "for i, q in enumerate(questions):\n",
    "  rows = []\n",
    "  for user_id in user_ids:\n",
    "    user_id = int(user_id)\n",
    "    rows.append({subject: user_id, depvar: responses_of_q[0][i][user_id], within: 'unassisted'})\n",
    "    rows.append({subject: user_id, depvar: responses_of_q[1][i][user_id], within: 'assisted'})\n",
    "  data = pd.DataFrame(rows)\n",
    "  aovrm = AnovaRM(data=data, depvar=depvar, subject=subject, within=[within])\n",
    "  res = aovrm.fit()\n",
    "  p = res.anova_table['Pr > F'].values[0]\n",
    "  print('%s & $%s%s%s$ & %0.2f & %s%0.2f%s \\\\\\\\' % (q, '\\\\mathbf{' if p < 0.05 else '', utils.discretize_p_value(p), '}' if p < 0.05 else '', np.nanmean(responses_of_q[0][i]), '\\\\textbf{' if p < 0.05 else '', np.nanmean(responses_of_q[1][i]), '}' if p < 0.05 else ''))"
   ]
  },
  {
   "cell_type": "code",
   "execution_count": null,
   "metadata": {},
   "outputs": [],
   "source": []
  },
  {
   "cell_type": "code",
   "execution_count": null,
   "metadata": {},
   "outputs": [],
   "source": [
    "from IPython.core.display import display\n",
    "from IPython.core.display import HTML\n",
    "from matplotlib import animation\n",
    "\n",
    "def outline_img(img, thickness=1, intensity=255):\n",
    "  img[:thickness, :] = 0\n",
    "  img[:thickness, :, 0] = intensity\n",
    "  img[-thickness:, :] = 0\n",
    "  img[-thickness:, :, 0] = intensity\n",
    "  img[:, :thickness] = 0\n",
    "  img[:, :thickness, 0] = intensity\n",
    "  img[:, -thickness:] = 0\n",
    "  img[:, -thickness:, 0] = intensity\n",
    "  return img\n",
    "\n",
    "gap = (np.ones((64, 1, 3)) * 255).astype('uint8')\n",
    "def viz_rollout(rollout, guide_name):\n",
    "  frames = []\n",
    "  for x in rollout:\n",
    "    delayed_img = x[-1]['delayed_img']\n",
    "    pred_img = x[-1]['pred_img']\n",
    "    img = x[-1]['img']\n",
    "    if guide_name == 'prac':\n",
    "      img = outline_img(img)\n",
    "    elif guide_name == 'iden':\n",
    "      delayed_img = outline_img(delayed_img)\n",
    "    elif guide_name == 'naive':\n",
    "      pred_img = outline_img(pred_img)\n",
    "    frame = np.concatenate((delayed_img, gap, pred_img, gap, img), axis=1)\n",
    "    frames.append(frame)\n",
    "  return frames\n",
    "\n",
    "def animate_frames(frames):\n",
    "  fig = plt.figure(figsize=(20, 10))\n",
    "  plt.axis('off')\n",
    "  ims = [[plt.imshow(frame, animated=True)] for frame in frames]\n",
    "  plt.close()\n",
    "  anim = animation.ArtistAnimation(fig, ims, interval=100, blit=True, repeat_delay=1000)\n",
    "  return anim"
   ]
  },
  {
   "cell_type": "code",
   "execution_count": null,
   "metadata": {},
   "outputs": [],
   "source": [
    "rollout = baseline_guide_evals_of_user['4']['iden']['rollouts'][-1]\n",
    "iden_frames = viz_rollout(rollout, guide_name='iden')\n",
    "iden_anim = animate_frames(iden_frames)"
   ]
  },
  {
   "cell_type": "code",
   "execution_count": null,
   "metadata": {},
   "outputs": [],
   "source": [
    "display(HTML(iden_anim.to_html5_video()))"
   ]
  },
  {
   "cell_type": "code",
   "execution_count": null,
   "metadata": {},
   "outputs": [],
   "source": [
    "iden_anim.save(os.path.join(fig_dir, 'iden.mp4'))"
   ]
  },
  {
   "cell_type": "code",
   "execution_count": null,
   "metadata": {},
   "outputs": [],
   "source": [
    "rollout = baseline_guide_evals_of_user['4']['naive']['rollouts'][-1]\n",
    "naive_frames = viz_rollout(rollout, guide_name='naive')\n",
    "naive_anim = animate_frames(naive_frames)"
   ]
  },
  {
   "cell_type": "code",
   "execution_count": null,
   "metadata": {},
   "outputs": [],
   "source": [
    "display(HTML(naive_anim.to_html5_video()))"
   ]
  },
  {
   "cell_type": "code",
   "execution_count": null,
   "metadata": {},
   "outputs": [],
   "source": [
    "naive_anim.save(os.path.join(fig_dir, 'naive.mp4'))"
   ]
  },
  {
   "cell_type": "code",
   "execution_count": null,
   "metadata": {},
   "outputs": [],
   "source": []
  },
  {
   "cell_type": "code",
   "execution_count": null,
   "metadata": {},
   "outputs": [],
   "source": [
    "gap = (np.ones((1, 64, 3)) * 255).astype('uint8')\n",
    "def viz_rollout(rollout, guide_name):\n",
    "  frames = []\n",
    "  for x in rollout:\n",
    "    delayed_img = x[-1]['delayed_img']\n",
    "    pred_img = x[-1]['pred_img']\n",
    "    img = x[-1]['img']\n",
    "    frame = np.concatenate((delayed_img, gap, pred_img, gap, img), axis=0)\n",
    "    frames.append(frame)\n",
    "  return frames"
   ]
  },
  {
   "cell_type": "code",
   "execution_count": null,
   "metadata": {},
   "outputs": [],
   "source": [
    "rollout = baseline_guide_evals_of_user['4']['iden']['rollouts'][-1]\n",
    "frames = viz_rollout(rollout, 'iden')"
   ]
  },
  {
   "cell_type": "code",
   "execution_count": null,
   "metadata": {},
   "outputs": [],
   "source": [
    "t = 250\n",
    "gap = (np.ones((64*3+2, 1, 3)) * 255).astype('uint8')\n",
    "gapped_frames = []\n",
    "for i in range(t, t+10):\n",
    "  gapped_frames.append(frames[i])\n",
    "  if i < t+9:\n",
    "    gapped_frames.append(gap)\n",
    "img = np.concatenate(gapped_frames, axis=1)\n",
    "\n",
    "plt.imshow(img)\n",
    "plt.axis('off')\n",
    "plt.savefig(os.path.join(fig_dir, 'car-film-strip.pdf'), bbox_inches='tight', dpi=500)\n",
    "plt.show()"
   ]
  },
  {
   "cell_type": "code",
   "execution_count": null,
   "metadata": {},
   "outputs": [],
   "source": []
  }
 ],
 "metadata": {
  "kernelspec": {
   "display_name": "Python 3",
   "language": "python",
   "name": "python3"
  },
  "language_info": {
   "codemirror_mode": {
    "name": "ipython",
    "version": 3
   },
   "file_extension": ".py",
   "mimetype": "text/x-python",
   "name": "python",
   "nbconvert_exporter": "python",
   "pygments_lexer": "ipython3",
   "version": "3.6.10"
  },
  "widgets": {
   "state": {},
   "version": "1.1.2"
  }
 },
 "nbformat": 4,
 "nbformat_minor": 2
}
