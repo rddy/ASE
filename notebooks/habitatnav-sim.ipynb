{
 "cells": [
  {
   "cell_type": "code",
   "execution_count": null,
   "metadata": {
    "scrolled": false
   },
   "outputs": [],
   "source": [
    "%load_ext autoreload\n",
    "%autoreload 2"
   ]
  },
  {
   "cell_type": "code",
   "execution_count": null,
   "metadata": {
    "scrolled": false
   },
   "outputs": [],
   "source": [
    "from __future__ import division\n",
    "\n",
    "import pickle\n",
    "import os\n",
    "from copy import deepcopy\n",
    "import collections\n",
    "\n",
    "import numpy as np\n",
    "import scipy\n",
    "from matplotlib import animation\n",
    "\n",
    "from sensei import utils\n",
    "from sensei.user_models import GridWorldNavUser\n",
    "from sensei.guide_models import GridWorldGuide\n",
    "from sensei.envs import GridWorldNavEnv, GuideEnv, HabitatNavEnv\n",
    "from sensei import ase"
   ]
  },
  {
   "cell_type": "code",
   "execution_count": null,
   "metadata": {
    "scrolled": true
   },
   "outputs": [],
   "source": [
    "from matplotlib import pyplot as plt\n",
    "import matplotlib as mpl\n",
    "%matplotlib inline"
   ]
  },
  {
   "cell_type": "code",
   "execution_count": null,
   "metadata": {
    "scrolled": false
   },
   "outputs": [],
   "source": [
    "import warnings\n",
    "warnings.filterwarnings('ignore')"
   ]
  },
  {
   "cell_type": "code",
   "execution_count": null,
   "metadata": {
    "scrolled": false
   },
   "outputs": [],
   "source": [
    "sess = utils.make_tf_session(gpu_mode=False)"
   ]
  },
  {
   "cell_type": "code",
   "execution_count": null,
   "metadata": {},
   "outputs": [],
   "source": [
    "data_dir = utils.hab_data_dir\n",
    "fig_dir = os.path.join(data_dir, 'figures')"
   ]
  },
  {
   "cell_type": "markdown",
   "metadata": {},
   "source": [
    "create habitat env"
   ]
  },
  {
   "cell_type": "code",
   "execution_count": null,
   "metadata": {
    "scrolled": false
   },
   "outputs": [],
   "source": [
    "gw_size = 30\n",
    "n_goals = 10"
   ]
  },
  {
   "cell_type": "code",
   "execution_count": null,
   "metadata": {
    "scrolled": false
   },
   "outputs": [],
   "source": [
    "env_id = 'uNb9QFRL6hY'\n",
    "dataset = 'mp3d'\n",
    "\n",
    "min_z = -2\n",
    "max_z = 1.5\n",
    "mins = np.array([-100, -100])\n",
    "maxs = np.array([100, 100])\n",
    "bbox_xy = (mins, maxs)\n",
    "bbox_z = (min_z, max_z)"
   ]
  },
  {
   "cell_type": "code",
   "execution_count": null,
   "metadata": {
    "scrolled": true
   },
   "outputs": [],
   "source": [
    "env = HabitatNavEnv(\n",
    "  gw_size=gw_size,\n",
    "  n_navigable_poses=1000000,\n",
    "  radius=1e-1,\n",
    "  n_goals=n_goals,\n",
    "  env_id=env_id,\n",
    "  dataset=dataset,\n",
    "  verbose=True,\n",
    "  max_ep_len=501,\n",
    "  max_hop_dist=0,\n",
    "  max_lat_dist=0,\n",
    "  bbox_xy=bbox_xy,\n",
    "  bbox_z=bbox_z,\n",
    "  use_cache=True,\n",
    "  render_mode=True\n",
    ")"
   ]
  },
  {
   "cell_type": "code",
   "execution_count": null,
   "metadata": {},
   "outputs": [],
   "source": [
    "env.ground_truth_obs_model.shape"
   ]
  },
  {
   "cell_type": "code",
   "execution_count": null,
   "metadata": {},
   "outputs": [],
   "source": [
    "for i in range(env.ground_truth_obs_model.shape[0]):\n",
    "  print(i, env.str_of_obs[i], np.exp(env.ground_truth_obs_model[i, :]).mean())"
   ]
  },
  {
   "cell_type": "code",
   "execution_count": null,
   "metadata": {},
   "outputs": [],
   "source": [
    "for i in range(env.ground_truth_obs_model.shape[1]):\n",
    "  print(i, (np.exp(env.ground_truth_obs_model[:, i]) >= (1 / env.ground_truth_obs_model.shape[0])).sum())"
   ]
  },
  {
   "cell_type": "code",
   "execution_count": null,
   "metadata": {},
   "outputs": [],
   "source": [
    "plt.ylabel('observation')\n",
    "plt.xlabel('state')\n",
    "plt.imshow(env.ground_truth_obs_model)\n",
    "plt.show()"
   ]
  },
  {
   "cell_type": "code",
   "execution_count": null,
   "metadata": {},
   "outputs": [],
   "source": [
    "env.ground_truth_obs_model.shape"
   ]
  },
  {
   "cell_type": "markdown",
   "metadata": {},
   "source": [
    "create guide"
   ]
  },
  {
   "cell_type": "code",
   "execution_count": null,
   "metadata": {
    "scrolled": false
   },
   "outputs": [],
   "source": [
    "ground_truth_obs_model = env.ground_truth_obs_model\n",
    "dynamics_model = env.make_dynamics_model(eps=0.2)\n",
    "q_func = env.Q"
   ]
  },
  {
   "cell_type": "code",
   "execution_count": null,
   "metadata": {},
   "outputs": [],
   "source": [
    "init_belief_conf = 1-1e-9"
   ]
  },
  {
   "cell_type": "code",
   "execution_count": null,
   "metadata": {
    "scrolled": false
   },
   "outputs": [],
   "source": [
    "ideal_user_model = GridWorldNavUser(\n",
    "  env, \n",
    "  ground_truth_obs_model, \n",
    "  dynamics_model, \n",
    "  q_func=q_func,\n",
    "  init_belief_conf=init_belief_conf\n",
    ")"
   ]
  },
  {
   "cell_type": "code",
   "execution_count": null,
   "metadata": {},
   "outputs": [],
   "source": [
    "internal_dynamics_model = dynamics_model"
   ]
  },
  {
   "cell_type": "code",
   "execution_count": null,
   "metadata": {},
   "outputs": [],
   "source": [
    "internal_obs_model = env.ground_truth_obs_model"
   ]
  },
  {
   "cell_type": "code",
   "execution_count": null,
   "metadata": {},
   "outputs": [],
   "source": [
    "user_init_belief_conf = 1-1e-9"
   ]
  },
  {
   "cell_type": "code",
   "execution_count": null,
   "metadata": {},
   "outputs": [],
   "source": [
    "user_model = GridWorldNavUser(\n",
    "  env, \n",
    "  internal_obs_model, \n",
    "  internal_dynamics_model, \n",
    "  q_func=q_func,\n",
    "  init_belief_conf=user_init_belief_conf\n",
    ")"
   ]
  },
  {
   "cell_type": "code",
   "execution_count": null,
   "metadata": {
    "scrolled": false
   },
   "outputs": [],
   "source": [
    "guide_env = GuideEnv(env, user_model, n_obs_per_act=5)"
   ]
  },
  {
   "cell_type": "code",
   "execution_count": null,
   "metadata": {
    "scrolled": false
   },
   "outputs": [],
   "source": [
    "iden_guide_policy = lambda obs, info: obs\n",
    "iden_guide_policy = utils.StutteredPolicy(iden_guide_policy, guide_env.n_obs_per_act)\n",
    "unif_guide_policy = lambda obs, info: np.random.choice(env.n_obses)\n",
    "unif_guide_policy = utils.StutteredPolicy(unif_guide_policy, guide_env.n_obs_per_act)"
   ]
  },
  {
   "cell_type": "code",
   "execution_count": null,
   "metadata": {
    "scrolled": true
   },
   "outputs": [],
   "source": [
    "oracle_guide_model = GridWorldGuide(\n",
    "  sess, \n",
    "  env, \n",
    "  ground_truth_obs_model, \n",
    "  dynamics_model, \n",
    "  q_func,\n",
    "  n_obs_per_act=guide_env.n_obs_per_act,\n",
    "  internal_dynamics_model=internal_dynamics_model,\n",
    "  prior_internal_obs_model=internal_obs_model,\n",
    "  learn_internal_obs_model=False,\n",
    "  init_belief_conf=init_belief_conf,\n",
    "  user_init_belief_conf=user_init_belief_conf\n",
    ")\n",
    "\n",
    "naive_guide_model = GridWorldGuide(\n",
    "  sess, \n",
    "  env, \n",
    "  ground_truth_obs_model, \n",
    "  dynamics_model, \n",
    "  q_func,\n",
    "  n_obs_per_act=guide_env.n_obs_per_act,\n",
    "  internal_dynamics_model=internal_dynamics_model,\n",
    "  prior_internal_obs_model=ground_truth_obs_model,\n",
    "  learn_internal_obs_model=False,\n",
    "  init_belief_conf=init_belief_conf,\n",
    "  user_init_belief_conf=user_init_belief_conf\n",
    ")"
   ]
  },
  {
   "cell_type": "markdown",
   "metadata": {},
   "source": [
    "sanity-check envs, agents"
   ]
  },
  {
   "cell_type": "code",
   "execution_count": null,
   "metadata": {},
   "outputs": [],
   "source": [
    "render = True"
   ]
  },
  {
   "cell_type": "code",
   "execution_count": null,
   "metadata": {},
   "outputs": [],
   "source": [
    "env.set_render_mode(render)"
   ]
  },
  {
   "cell_type": "code",
   "execution_count": null,
   "metadata": {},
   "outputs": [],
   "source": [
    "env.reset_init_order()"
   ]
  },
  {
   "cell_type": "code",
   "execution_count": null,
   "metadata": {
    "scrolled": true
   },
   "outputs": [],
   "source": [
    "rollout = utils.run_ep(env.oracle_policy, env, render=render)"
   ]
  },
  {
   "cell_type": "code",
   "execution_count": null,
   "metadata": {
    "scrolled": true
   },
   "outputs": [],
   "source": [
    "env.close()"
   ]
  },
  {
   "cell_type": "code",
   "execution_count": null,
   "metadata": {
    "scrolled": false
   },
   "outputs": [],
   "source": [
    "rollout = utils.run_ep(ideal_user_model, env, render=render)"
   ]
  },
  {
   "cell_type": "code",
   "execution_count": null,
   "metadata": {
    "scrolled": false
   },
   "outputs": [],
   "source": [
    "env.close()"
   ]
  },
  {
   "cell_type": "code",
   "execution_count": null,
   "metadata": {
    "scrolled": true
   },
   "outputs": [],
   "source": [
    "rollout = utils.run_ep(user_model, env, render=render)"
   ]
  },
  {
   "cell_type": "code",
   "execution_count": null,
   "metadata": {
    "scrolled": false
   },
   "outputs": [],
   "source": [
    "env.close()"
   ]
  },
  {
   "cell_type": "code",
   "execution_count": null,
   "metadata": {
    "scrolled": true
   },
   "outputs": [],
   "source": [
    "rollout = utils.run_ep(iden_guide_policy, guide_env, render=render, max_ep_len=20)"
   ]
  },
  {
   "cell_type": "code",
   "execution_count": null,
   "metadata": {},
   "outputs": [],
   "source": [
    "frames = [x[-1]['img'] for x in rollout[::guide_env.n_obs_per_act]]\n",
    "utils.play_nb_vid(frames)"
   ]
  },
  {
   "cell_type": "code",
   "execution_count": null,
   "metadata": {
    "scrolled": true
   },
   "outputs": [],
   "source": [
    "guide_env.close()"
   ]
  },
  {
   "cell_type": "code",
   "execution_count": null,
   "metadata": {
    "scrolled": true
   },
   "outputs": [],
   "source": [
    "rollout = utils.run_ep(unif_guide_policy, guide_env, render=render)"
   ]
  },
  {
   "cell_type": "code",
   "execution_count": null,
   "metadata": {
    "scrolled": false
   },
   "outputs": [],
   "source": [
    "guide_env.close()"
   ]
  },
  {
   "cell_type": "code",
   "execution_count": null,
   "metadata": {
    "scrolled": true
   },
   "outputs": [],
   "source": [
    "rollout = utils.run_ep(oracle_guide_model, guide_env, render=render)"
   ]
  },
  {
   "cell_type": "code",
   "execution_count": null,
   "metadata": {
    "scrolled": false
   },
   "outputs": [],
   "source": [
    "guide_env.close()"
   ]
  },
  {
   "cell_type": "code",
   "execution_count": null,
   "metadata": {
    "scrolled": false
   },
   "outputs": [],
   "source": [
    "rollout = utils.run_ep(naive_guide_model, guide_env, render=render, max_ep_len=50)"
   ]
  },
  {
   "cell_type": "code",
   "execution_count": null,
   "metadata": {},
   "outputs": [],
   "source": [
    "guide_env.close()"
   ]
  },
  {
   "cell_type": "code",
   "execution_count": null,
   "metadata": {},
   "outputs": [],
   "source": []
  },
  {
   "cell_type": "code",
   "execution_count": null,
   "metadata": {
    "scrolled": false
   },
   "outputs": [],
   "source": [
    "frames = [x[-1]['img'] for x in rollout[::guide_env.n_obs_per_act]]\n",
    "utils.play_nb_vid(frames)"
   ]
  },
  {
   "cell_type": "code",
   "execution_count": null,
   "metadata": {},
   "outputs": [],
   "source": [
    "img = frames[0]\n",
    "plt.axis('off')\n",
    "plt.imshow(img)\n",
    "plt.savefig(os.path.join(fig_dir, 'hab-viz-init.pdf'), bbox_inches='tight', dpi=500)\n",
    "plt.show()"
   ]
  },
  {
   "cell_type": "code",
   "execution_count": null,
   "metadata": {},
   "outputs": [],
   "source": [
    "habviz_path = os.path.join(fig_dir, 'hab-viz.pkl')"
   ]
  },
  {
   "cell_type": "code",
   "execution_count": null,
   "metadata": {},
   "outputs": [],
   "source": [
    "with open(habviz_path, 'rb') as f:\n",
    "  rollout = pickle.load(f)"
   ]
  },
  {
   "cell_type": "code",
   "execution_count": null,
   "metadata": {},
   "outputs": [],
   "source": [
    "with open(habviz_path, 'wb') as f:\n",
    "  pickle.dump(rollout, f, pickle.HIGHEST_PROTOCOL)"
   ]
  },
  {
   "cell_type": "code",
   "execution_count": null,
   "metadata": {},
   "outputs": [],
   "source": [
    "img = rollout[120][-1]['img']"
   ]
  },
  {
   "cell_type": "code",
   "execution_count": null,
   "metadata": {},
   "outputs": [],
   "source": [
    "plt.imshow(img[:, :img.shape[1]//3])\n",
    "plt.axis('off')\n",
    "plt.savefig(os.path.join(fig_dir, 'hab-viz-1.pdf'), bbox_inches='tight', dpi=500)\n",
    "plt.show()"
   ]
  },
  {
   "cell_type": "code",
   "execution_count": null,
   "metadata": {},
   "outputs": [],
   "source": [
    "plt.imshow(img[:, -img.shape[1]//3:])\n",
    "plt.axis('off')\n",
    "plt.savefig(os.path.join(fig_dir, 'hab-viz-2.pdf'), bbox_inches='tight', dpi=500)\n",
    "plt.show()"
   ]
  },
  {
   "cell_type": "code",
   "execution_count": null,
   "metadata": {},
   "outputs": [],
   "source": []
  },
  {
   "cell_type": "markdown",
   "metadata": {},
   "source": [
    "make videos"
   ]
  },
  {
   "cell_type": "code",
   "execution_count": null,
   "metadata": {},
   "outputs": [],
   "source": [
    "guides = {\n",
    "  'iden': iden_guide_policy,\n",
    "  'naive': naive_guide_model\n",
    "}"
   ]
  },
  {
   "cell_type": "code",
   "execution_count": null,
   "metadata": {},
   "outputs": [],
   "source": [
    "vid_path = os.path.join(data_dir, 'baselines_eval_for_vid.pkl')"
   ]
  },
  {
   "cell_type": "code",
   "execution_count": null,
   "metadata": {},
   "outputs": [],
   "source": [
    "with open(vid_path, 'rb') as f:\n",
    "  baseline_guide_evals = pickle.load(f)"
   ]
  },
  {
   "cell_type": "code",
   "execution_count": null,
   "metadata": {},
   "outputs": [],
   "source": [
    "baseline_guide_evals = ase.evaluate_baseline_guides(\n",
    "  sess, \n",
    "  guide_env, \n",
    "  guides, \n",
    "  n_eval_rollouts=4\n",
    ")"
   ]
  },
  {
   "cell_type": "code",
   "execution_count": null,
   "metadata": {},
   "outputs": [],
   "source": [
    "with open(vid_path, 'wb') as f:\n",
    "  pickle.dump(baseline_guide_evals, f, pickle.HIGHEST_PROTOCOL)"
   ]
  },
  {
   "cell_type": "code",
   "execution_count": null,
   "metadata": {},
   "outputs": [],
   "source": [
    "def animate_frames(frames):\n",
    "  fig = plt.figure(figsize=(20, 10))\n",
    "  plt.axis('off')\n",
    "  ims = [[plt.imshow(frame, animated=True)] for frame in frames]\n",
    "  plt.close()\n",
    "  anim = animation.ArtistAnimation(fig, ims, interval=1000, blit=True, repeat_delay=1000)\n",
    "  return anim"
   ]
  },
  {
   "cell_type": "code",
   "execution_count": null,
   "metadata": {},
   "outputs": [],
   "source": [
    "max_ep_lens = [max(len(guide_evals['rollouts'][ep_idx][::guide_env.n_obs_per_act]) for guide_evals in baseline_guide_evals.values()) for ep_idx in range(4)]\n",
    "split_frames = []\n",
    "for guide_name, guide_evals in baseline_guide_evals.items():\n",
    "  guide_frames = []\n",
    "  for i, rollout in enumerate(guide_evals['rollouts']):\n",
    "    ep_frames = [x[-1]['img'] for x in rollout[::guide_env.n_obs_per_act]]\n",
    "    if len(ep_frames) < max_ep_lens[i]:\n",
    "      ep_frames.extend([ep_frames[-1]] * (max_ep_lens[i] - len(ep_frames)))\n",
    "    guide_frames.extend(ep_frames)\n",
    "  split_frames.append(guide_frames)"
   ]
  },
  {
   "cell_type": "code",
   "execution_count": null,
   "metadata": {},
   "outputs": [],
   "source": [
    "gap = np.ones((10, split_frames[0][0].shape[1], 4)).astype(int) * 255\n",
    "frames = [np.concatenate((f[0], gap, f[1]), axis=0) for f in zip(*split_frames)]\n",
    "anim = animate_frames(frames)\n",
    "anim.save(os.path.join(fig_dir, 'habitat.mp4'))"
   ]
  },
  {
   "cell_type": "markdown",
   "metadata": {},
   "source": [
    "evaluate baselines"
   ]
  },
  {
   "cell_type": "code",
   "execution_count": null,
   "metadata": {},
   "outputs": [],
   "source": [
    "env.set_render_mode(False)"
   ]
  },
  {
   "cell_type": "code",
   "execution_count": null,
   "metadata": {
    "scrolled": false
   },
   "outputs": [],
   "source": [
    "guides = {\n",
    "  'iden': iden_guide_policy,\n",
    "  'oracle': oracle_guide_model,\n",
    "  'unif': unif_guide_policy,\n",
    "  'naive': naive_guide_model\n",
    "}"
   ]
  },
  {
   "cell_type": "code",
   "execution_count": null,
   "metadata": {
    "scrolled": true
   },
   "outputs": [],
   "source": [
    "baseline_guide_evals = ase.evaluate_baseline_guides(\n",
    "  sess, \n",
    "  guide_env, \n",
    "  guides, \n",
    "  n_eval_rollouts=4\n",
    ")"
   ]
  },
  {
   "cell_type": "code",
   "execution_count": null,
   "metadata": {
    "scrolled": false
   },
   "outputs": [],
   "source": [
    "baselines_eval_path = os.path.join(data_dir, 'baselines_eval.pkl')"
   ]
  },
  {
   "cell_type": "code",
   "execution_count": null,
   "metadata": {
    "scrolled": false
   },
   "outputs": [],
   "source": [
    "with open(baselines_eval_path, 'wb') as f:\n",
    "  pickle.dump(baseline_guide_evals, f, pickle.HIGHEST_PROTOCOL)"
   ]
  },
  {
   "cell_type": "code",
   "execution_count": null,
   "metadata": {
    "scrolled": false
   },
   "outputs": [],
   "source": [
    "with open(baselines_eval_path, 'rb') as f:\n",
    "  baseline_guide_evals = pickle.load(f)"
   ]
  },
  {
   "cell_type": "code",
   "execution_count": null,
   "metadata": {
    "scrolled": false
   },
   "outputs": [],
   "source": [
    "for k, v in baseline_guide_evals.items():\n",
    "  print(k, {x: y for x, y in v['perf'].items() if not x.endswith('_t')})"
   ]
  },
  {
   "cell_type": "code",
   "execution_count": null,
   "metadata": {},
   "outputs": [],
   "source": [
    "perf_metrics = ['succ', 'dist_to_goal', 'rollout_len', 'user_belief_in_true_state']\n",
    "guide_names = ['iden', 'unif', 'naive', 'oracle']\n",
    "for guide_name in guide_names:\n",
    "  guide_eval = baseline_guide_evals[guide_name]\n",
    "  label = utils.label_of_guide[guide_name]\n",
    "  line = '%s & ' % label\n",
    "  for metric in perf_metrics:\n",
    "    mean = guide_eval['perf'][metric]\n",
    "    stderr = guide_eval['perf']['%s_stderr' % metric]\n",
    "    line += '$%0.2f \\pm %0.2f$ & ' % (mean, stderr)\n",
    "  line = line[:-2] + '\\\\\\\\'\n",
    "  print(line)"
   ]
  },
  {
   "cell_type": "code",
   "execution_count": null,
   "metadata": {
    "scrolled": false
   },
   "outputs": [],
   "source": [
    "counts_of_guide = {}\n",
    "for guide in guides:\n",
    "  rollouts = baseline_guide_evals[guide]['rollouts']\n",
    "  obses = []\n",
    "  for rollout in rollouts:\n",
    "    for x in rollout:\n",
    "      obs = x[1]\n",
    "      if obs is not None:\n",
    "        obses.append(env.str_of_obs[obs])\n",
    "  counts = collections.Counter(obses)\n",
    "  counts_of_guide[guide] = counts"
   ]
  },
  {
   "cell_type": "code",
   "execution_count": null,
   "metadata": {
    "scrolled": true
   },
   "outputs": [],
   "source": [
    "for guide in ['naive', 'oracle']:\n",
    "  ratios = {}\n",
    "  for obs, count in counts_of_guide[guide].items():\n",
    "    ref_count = counts_of_guide['iden'][obs]\n",
    "    if ref_count == 0:\n",
    "      ratios[obs] = np.inf\n",
    "    else:\n",
    "      ratios[obs] = count / ref_count\n",
    "  ratios = sorted(list(ratios.items()), key=lambda x: x[1], reverse=True)\n",
    "  print(guide)\n",
    "  print('\\n'.join('%s %0.2f %d %d' % (k, v, counts_of_guide[guide][k], counts_of_guide['iden'][k]) for k, v in ratios))\n",
    "  print()"
   ]
  },
  {
   "cell_type": "code",
   "execution_count": null,
   "metadata": {
    "scrolled": true
   },
   "outputs": [],
   "source": []
  }
 ],
 "metadata": {
  "kernelspec": {
   "display_name": "Python 3",
   "language": "python",
   "name": "python3"
  },
  "language_info": {
   "codemirror_mode": {
    "name": "ipython",
    "version": 3
   },
   "file_extension": ".py",
   "mimetype": "text/x-python",
   "name": "python",
   "nbconvert_exporter": "python",
   "pygments_lexer": "ipython3",
   "version": "3.6.10"
  },
  "widgets": {
   "state": {},
   "version": "1.1.2"
  }
 },
 "nbformat": 4,
 "nbformat_minor": 2
}
