{
 "cells": [
  {
   "cell_type": "code",
   "execution_count": null,
   "metadata": {
    "scrolled": true
   },
   "outputs": [],
   "source": [
    "%load_ext autoreload\n",
    "%autoreload 2"
   ]
  },
  {
   "cell_type": "code",
   "execution_count": null,
   "metadata": {
    "scrolled": true
   },
   "outputs": [],
   "source": [
    "from __future__ import division\n",
    "\n",
    "import pickle\n",
    "import os\n",
    "\n",
    "import numpy as np\n",
    "\n",
    "from sensei import utils\n",
    "from sensei.user_models import CarUser\n",
    "from sensei.envs import GuideEnv\n",
    "from sensei import envs\n",
    "from sensei import ase\n",
    "from sensei import dynamics_models\n",
    "from sensei import encoder_models"
   ]
  },
  {
   "cell_type": "code",
   "execution_count": null,
   "metadata": {
    "scrolled": false
   },
   "outputs": [],
   "source": [
    "from matplotlib import pyplot as plt\n",
    "import matplotlib as mpl\n",
    "%matplotlib inline"
   ]
  },
  {
   "cell_type": "code",
   "execution_count": null,
   "metadata": {
    "scrolled": true
   },
   "outputs": [],
   "source": [
    "import warnings\n",
    "warnings.filterwarnings('ignore')"
   ]
  },
  {
   "cell_type": "code",
   "execution_count": null,
   "metadata": {
    "scrolled": true
   },
   "outputs": [],
   "source": [
    "sess = utils.make_tf_session(gpu_mode=False)"
   ]
  },
  {
   "cell_type": "code",
   "execution_count": null,
   "metadata": {
    "scrolled": true
   },
   "outputs": [],
   "source": [
    "data_dir = utils.car_data_dir\n",
    "fig_dir = os.path.join(data_dir, 'figures')"
   ]
  },
  {
   "cell_type": "markdown",
   "metadata": {},
   "source": [
    "create carracing env"
   ]
  },
  {
   "cell_type": "code",
   "execution_count": null,
   "metadata": {},
   "outputs": [],
   "source": [
    "encoder_model = encoder_models.load_wm_pretrained_vae(sess)"
   ]
  },
  {
   "cell_type": "code",
   "execution_count": null,
   "metadata": {},
   "outputs": [],
   "source": [
    "dynamics_model = dynamics_models.load_wm_pretrained_rnn(encoder_model, sess)"
   ]
  },
  {
   "cell_type": "code",
   "execution_count": null,
   "metadata": {},
   "outputs": [],
   "source": [
    "env = envs.CarEnv(encoder_model, dynamics_model, delay=10)"
   ]
  },
  {
   "cell_type": "markdown",
   "metadata": {},
   "source": [
    "create guide env"
   ]
  },
  {
   "cell_type": "code",
   "execution_count": null,
   "metadata": {},
   "outputs": [],
   "source": [
    "env.delay = 10"
   ]
  },
  {
   "cell_type": "code",
   "execution_count": null,
   "metadata": {
    "scrolled": true
   },
   "outputs": [],
   "source": [
    "user_model = CarUser(env)"
   ]
  },
  {
   "cell_type": "code",
   "execution_count": null,
   "metadata": {
    "scrolled": true
   },
   "outputs": [],
   "source": [
    "guide_env = GuideEnv(env, user_model)"
   ]
  },
  {
   "cell_type": "code",
   "execution_count": null,
   "metadata": {},
   "outputs": [],
   "source": [
    "naive_guide_model = utils.CarGuidePolicy('naive')"
   ]
  },
  {
   "cell_type": "code",
   "execution_count": null,
   "metadata": {},
   "outputs": [],
   "source": [
    "oracle_guide_model = utils.CarGuidePolicy('oracle')"
   ]
  },
  {
   "cell_type": "code",
   "execution_count": null,
   "metadata": {},
   "outputs": [],
   "source": [
    "iden_guide_policy = utils.CarGuidePolicy('iden')"
   ]
  },
  {
   "cell_type": "markdown",
   "metadata": {},
   "source": [
    "sanity-check envs, agents"
   ]
  },
  {
   "cell_type": "code",
   "execution_count": null,
   "metadata": {
    "scrolled": true
   },
   "outputs": [],
   "source": [
    "rollout = utils.run_ep(env.oracle_policy, env, render=True, max_ep_len=200)"
   ]
  },
  {
   "cell_type": "code",
   "execution_count": null,
   "metadata": {},
   "outputs": [],
   "source": [
    "frames = [x[-1]['img'] for x in rollout]\n",
    "utils.play_nb_vid(frames)"
   ]
  },
  {
   "cell_type": "code",
   "execution_count": null,
   "metadata": {
    "scrolled": false
   },
   "outputs": [],
   "source": [
    "env.close()"
   ]
  },
  {
   "cell_type": "code",
   "execution_count": null,
   "metadata": {
    "scrolled": false
   },
   "outputs": [],
   "source": [
    "rollout = utils.run_ep(user_model, env, render=True, max_ep_len=200)"
   ]
  },
  {
   "cell_type": "code",
   "execution_count": null,
   "metadata": {
    "scrolled": true
   },
   "outputs": [],
   "source": [
    "env.close()"
   ]
  },
  {
   "cell_type": "code",
   "execution_count": null,
   "metadata": {
    "scrolled": false
   },
   "outputs": [],
   "source": [
    "rollout = utils.run_ep(iden_guide_policy, guide_env, render=True, max_ep_len=200)"
   ]
  },
  {
   "cell_type": "code",
   "execution_count": null,
   "metadata": {
    "scrolled": false
   },
   "outputs": [],
   "source": [
    "guide_env.close()"
   ]
  },
  {
   "cell_type": "code",
   "execution_count": null,
   "metadata": {
    "scrolled": false
   },
   "outputs": [],
   "source": [
    "rollout = utils.run_ep(naive_guide_model, guide_env, render=True, max_ep_len=200)"
   ]
  },
  {
   "cell_type": "code",
   "execution_count": null,
   "metadata": {
    "scrolled": true
   },
   "outputs": [],
   "source": [
    "guide_env.close()"
   ]
  },
  {
   "cell_type": "code",
   "execution_count": null,
   "metadata": {},
   "outputs": [],
   "source": [
    "rollout = utils.run_ep(oracle_guide_model, guide_env, render=True, max_ep_len=200)"
   ]
  },
  {
   "cell_type": "code",
   "execution_count": null,
   "metadata": {},
   "outputs": [],
   "source": [
    "guide_env.close()"
   ]
  },
  {
   "cell_type": "code",
   "execution_count": null,
   "metadata": {},
   "outputs": [],
   "source": [
    "unifobses_path = os.path.join(data_dir, 'unif_obses.pkl')"
   ]
  },
  {
   "cell_type": "code",
   "execution_count": null,
   "metadata": {},
   "outputs": [],
   "source": [
    "with open(unifobses_path, 'rb') as f:\n",
    "  unif_obses = pickle.load(f)"
   ]
  },
  {
   "cell_type": "code",
   "execution_count": null,
   "metadata": {},
   "outputs": [],
   "source": [
    "unif_obses = [x[1] for x in rollout]"
   ]
  },
  {
   "cell_type": "code",
   "execution_count": null,
   "metadata": {},
   "outputs": [],
   "source": [
    "with open(unifobses_path, 'wb') as f:\n",
    "  pickle.dump(unif_obses, f, pickle.HIGHEST_PROTOCOL)"
   ]
  },
  {
   "cell_type": "code",
   "execution_count": null,
   "metadata": {},
   "outputs": [],
   "source": [
    "unif_obs_idxes = list(range(len(unif_obses)))\n",
    "class UnifGuidePolicy(object):\n",
    "  \n",
    "  def __init__(self):\n",
    "    self.img = None\n",
    "  \n",
    "  def __call__(self, obs, info):\n",
    "    self.img = info['img']\n",
    "    return unif_obses[np.random.choice(unif_obs_idxes)]\n",
    "  \n",
    "  def get_action_info(self):\n",
    "    return {'img': self.img}\n",
    "  \n",
    "unif_guide_policy = UnifGuidePolicy()"
   ]
  },
  {
   "cell_type": "code",
   "execution_count": null,
   "metadata": {},
   "outputs": [],
   "source": [
    "rollout = utils.run_ep(unif_guide_policy, guide_env, render=True, max_ep_len=200)"
   ]
  },
  {
   "cell_type": "code",
   "execution_count": null,
   "metadata": {},
   "outputs": [],
   "source": [
    "guide_env.close()"
   ]
  },
  {
   "cell_type": "markdown",
   "metadata": {},
   "source": [
    "evaluate baselines"
   ]
  },
  {
   "cell_type": "code",
   "execution_count": null,
   "metadata": {
    "scrolled": true
   },
   "outputs": [],
   "source": [
    "baseline_guides = {\n",
    "  'oracle': oracle_guide_model,\n",
    "  'unif': unif_guide_policy\n",
    "}"
   ]
  },
  {
   "cell_type": "code",
   "execution_count": null,
   "metadata": {},
   "outputs": [],
   "source": [
    "baseline_guide_evals = ase.evaluate_baseline_guides(\n",
    "  sess, \n",
    "  guide_env, \n",
    "  baseline_guides, \n",
    "  n_eval_rollouts=20\n",
    ")"
   ]
  },
  {
   "cell_type": "code",
   "execution_count": null,
   "metadata": {},
   "outputs": [],
   "source": [
    "for k, v in baseline_guide_evals.items():\n",
    "  print(k, {x: y for x, y in v['perf'].items() if not x.endswith('_t')})"
   ]
  },
  {
   "cell_type": "code",
   "execution_count": null,
   "metadata": {},
   "outputs": [],
   "source": [
    "delays = list(range(21))\n",
    "delays\n",
    "\n",
    "guides = {\n",
    "  'iden': iden_guide_policy,\n",
    "  'naive': naive_guide_model\n",
    "}"
   ]
  },
  {
   "cell_type": "code",
   "execution_count": null,
   "metadata": {},
   "outputs": [],
   "source": [
    "guide_evals_of_delay = {}"
   ]
  },
  {
   "cell_type": "code",
   "execution_count": null,
   "metadata": {},
   "outputs": [],
   "source": [
    "def plot_evals(delays, save_path=None):\n",
    "  for metric in ['return', 'user_belief_in_true_state', 'succ', 'crash']:\n",
    "    plt.title('Car Racing')\n",
    "    plt.xlabel(r'Delay $d_{\\mathrm{max}}$')\n",
    "    plt.ylabel(utils.label_of_perf_met[metric])\n",
    "    for guide_name in guides:\n",
    "      ys = [guide_evals_of_delay[delay][guide_name]['perf'][metric] for delay in delays]\n",
    "      yerrs = [guide_evals_of_delay[delay][guide_name]['perf']['%s_stderr' % metric] for delay in delays]\n",
    "      guide_label = utils.label_of_guide[guide_name]\n",
    "      color = utils.color_of_guide[guide_name]\n",
    "      if guide_name == 'naive':\n",
    "        guide_label = 'ASE (Our Method)'\n",
    "        color = 'orange'\n",
    "      plt.errorbar(delays, ys, yerr=yerrs, label=guide_label, color=color, capsize=5)\n",
    "      \n",
    "    for guide_name, guide_eval in baseline_guide_evals.items():\n",
    "      y = guide_eval['perf'][metric]\n",
    "      guide_label = utils.label_of_guide[guide_name]\n",
    "      color = utils.color_of_guide[guide_name]\n",
    "      plt.axhline(y=y, color=color, label=guide_label, linestyle='--')\n",
    "      \n",
    "    if metric == 'return':\n",
    "      plt.ylim([-100, None])\n",
    "    \n",
    "    plt.legend(loc='lower left', prop={'size': 10})\n",
    "    if save_path is not None:\n",
    "      plt.savefig(os.path.join(save_path, '%s_%s.pdf' % ('carracing', metric)), bbox_inches='tight')\n",
    "    plt.show()"
   ]
  },
  {
   "cell_type": "code",
   "execution_count": null,
   "metadata": {
    "scrolled": true
   },
   "outputs": [],
   "source": [
    "for i, delay in enumerate(delays):\n",
    "  env.delay = delay\n",
    "  user_model = CarUser(env)\n",
    "  guide_env = GuideEnv(env, user_model)\n",
    "  guide_evals = ase.evaluate_baseline_guides(\n",
    "    sess, \n",
    "    guide_env, \n",
    "    guides, \n",
    "    n_eval_rollouts=20\n",
    "  )\n",
    "  \n",
    "  # save memory, discard rollouts\n",
    "  guide_evals = {k: {'perf': v['perf']} for k, v in guide_evals.items()}\n",
    "  \n",
    "  guide_evals_of_delay[delay] = guide_evals\n",
    "  plot_evals(delays[:i+1])"
   ]
  },
  {
   "cell_type": "code",
   "execution_count": null,
   "metadata": {},
   "outputs": [],
   "source": [
    "baselines_eval_path = os.path.join(data_dir, 'baselines_eval.pkl')"
   ]
  },
  {
   "cell_type": "code",
   "execution_count": null,
   "metadata": {},
   "outputs": [],
   "source": [
    "with open(baselines_eval_path, 'wb') as f:\n",
    "  pickle.dump((baseline_guide_evals, guide_evals_of_delay), f, pickle.HIGHEST_PROTOCOL)"
   ]
  },
  {
   "cell_type": "code",
   "execution_count": null,
   "metadata": {},
   "outputs": [],
   "source": [
    "with open(baselines_eval_path, 'rb') as f:\n",
    "  baseline_guide_evals, guide_evals_of_delay = pickle.load(f)"
   ]
  },
  {
   "cell_type": "code",
   "execution_count": null,
   "metadata": {},
   "outputs": [],
   "source": [
    "mpl.rcParams.update({'font.size': 14})"
   ]
  },
  {
   "cell_type": "code",
   "execution_count": null,
   "metadata": {},
   "outputs": [],
   "source": [
    "plot_evals(sorted(guide_evals_of_delay.keys()), save_path=fig_dir)"
   ]
  },
  {
   "cell_type": "code",
   "execution_count": null,
   "metadata": {},
   "outputs": [],
   "source": []
  }
 ],
 "metadata": {
  "kernelspec": {
   "display_name": "Python 3",
   "language": "python",
   "name": "python3"
  },
  "language_info": {
   "codemirror_mode": {
    "name": "ipython",
    "version": 3
   },
   "file_extension": ".py",
   "mimetype": "text/x-python",
   "name": "python",
   "nbconvert_exporter": "python",
   "pygments_lexer": "ipython3",
   "version": "3.6.10"
  },
  "widgets": {
   "state": {},
   "version": "1.1.2"
  }
 },
 "nbformat": 4,
 "nbformat_minor": 2
}
