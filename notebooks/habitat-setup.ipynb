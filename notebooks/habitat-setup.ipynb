{
 "cells": [
  {
   "cell_type": "code",
   "execution_count": null,
   "metadata": {},
   "outputs": [],
   "source": [
    "%load_ext autoreload\n",
    "%autoreload 2"
   ]
  },
  {
   "cell_type": "code",
   "execution_count": null,
   "metadata": {
    "scrolled": false
   },
   "outputs": [],
   "source": [
    "from __future__ import division\n",
    "\n",
    "import os\n",
    "import collections\n",
    "import csv\n",
    "import pickle\n",
    "\n",
    "import numpy as np\n",
    "import scipy.special\n",
    "import habitat\n",
    "import sklearn.neighbors\n",
    "\n",
    "from sensei import utils"
   ]
  },
  {
   "cell_type": "code",
   "execution_count": null,
   "metadata": {
    "scrolled": true
   },
   "outputs": [],
   "source": [
    "from matplotlib import pyplot as plt\n",
    "%matplotlib inline"
   ]
  },
  {
   "cell_type": "code",
   "execution_count": null,
   "metadata": {},
   "outputs": [],
   "source": [
    "env_id = 'uNb9QFRL6hY'\n",
    "dataset = 'mp3d'\n",
    "\n",
    "habitat_dir = os.path.join('/Users', 'reddy', 'habitat-api')\n",
    "scenes_dir = os.path.join(habitat_dir, 'data', 'scene_datasets')\n",
    "path_to_cfg = os.path.join(habitat_dir, 'configs', 'datasets', 'pointnav', '%s.yaml' % dataset)\n",
    "data_path = os.path.join(habitat_dir, 'data', 'datasets', 'pointnav', dataset, 'v1', '{split}', '{split}.json.gz')\n",
    "scene_path = os.path.join(scenes_dir, dataset, env_id, '%s.glb' % env_id)"
   ]
  },
  {
   "cell_type": "code",
   "execution_count": null,
   "metadata": {},
   "outputs": [],
   "source": [
    "config = habitat.get_config(path_to_cfg)"
   ]
  },
  {
   "cell_type": "code",
   "execution_count": null,
   "metadata": {},
   "outputs": [],
   "source": [
    "config.defrost()\n",
    "config.DATASET.SPLIT = 'val_mini'\n",
    "config.DATASET.SCENES_DIR = scenes_dir\n",
    "config.DATASET.DATA_PATH = data_path\n",
    "config.SIMULATOR.SCENE = scene_path\n",
    "config.SIMULATOR.AGENT_0.SENSORS = ['RGB_SENSOR', 'SEMANTIC_SENSOR']\n",
    "config.freeze()"
   ]
  },
  {
   "cell_type": "code",
   "execution_count": null,
   "metadata": {},
   "outputs": [],
   "source": [
    "env = habitat.Env(config=config)"
   ]
  },
  {
   "cell_type": "markdown",
   "metadata": {},
   "source": [
    "look around"
   ]
  },
  {
   "cell_type": "code",
   "execution_count": null,
   "metadata": {},
   "outputs": [],
   "source": [
    "agent_state = env._sim.get_agent_state()"
   ]
  },
  {
   "cell_type": "code",
   "execution_count": null,
   "metadata": {},
   "outputs": [],
   "source": [
    "sensor = env._sim.sensor_suite.sensors['semantic']"
   ]
  },
  {
   "cell_type": "code",
   "execution_count": null,
   "metadata": {},
   "outputs": [],
   "source": [
    "rgb_obs = env._sim.get_observations_at(agent_state.position, agent_state.rotation)['rgb']"
   ]
  },
  {
   "cell_type": "code",
   "execution_count": null,
   "metadata": {},
   "outputs": [],
   "source": [
    "plt.imshow(rgb_obs)\n",
    "plt.show()"
   ]
  },
  {
   "cell_type": "code",
   "execution_count": null,
   "metadata": {},
   "outputs": [],
   "source": [
    "scene = env.sim.semantic_annotations()"
   ]
  },
  {
   "cell_type": "code",
   "execution_count": null,
   "metadata": {},
   "outputs": [],
   "source": [
    "sem_obs = env._sim.get_observations_at(agent_state.position, agent_state.rotation)['semantic']"
   ]
  },
  {
   "cell_type": "code",
   "execution_count": null,
   "metadata": {},
   "outputs": [],
   "source": [
    "cat_of_mask = {idx: scene.objects[idx].category.name('') for idx in np.unique(sem_obs) if scene.objects[idx] is not None}\n",
    "mask_of_cat = collections.defaultdict(list)\n",
    "for k, v in cat_of_mask.items():\n",
    "  if v != '':\n",
    "    mask_of_cat[v].append(k)"
   ]
  },
  {
   "cell_type": "code",
   "execution_count": null,
   "metadata": {
    "scrolled": true
   },
   "outputs": [],
   "source": [
    "n = 50\n",
    "for k, v in mask_of_cat.items():\n",
    "  cat_img = np.isin(sem_obs, list(v))\n",
    "  if cat_img.any():\n",
    "    plt.title(k)\n",
    "    cat_img = np.concatenate((rgb_obs, (n + cat_img[:, :, np.newaxis] * (255-n))), axis=2)\n",
    "    plt.axis('off')\n",
    "    plt.imshow(cat_img)\n",
    "    plt.show()"
   ]
  },
  {
   "cell_type": "markdown",
   "metadata": {},
   "source": [
    "bird's eye"
   ]
  },
  {
   "cell_type": "code",
   "execution_count": null,
   "metadata": {},
   "outputs": [],
   "source": [
    "n_samples = 100000\n",
    "samples = np.array([env._sim.sample_navigable_point() for _ in range(n_samples)])\n",
    "samples = samples[:, [0, 2, 1]]"
   ]
  },
  {
   "cell_type": "code",
   "execution_count": null,
   "metadata": {},
   "outputs": [],
   "source": [
    "plt.hist(samples[:, 2], bins=20)\n",
    "plt.show()"
   ]
  },
  {
   "cell_type": "code",
   "execution_count": null,
   "metadata": {},
   "outputs": [],
   "source": [
    "collections.Counter(samples[:, 2])"
   ]
  },
  {
   "cell_type": "code",
   "execution_count": null,
   "metadata": {},
   "outputs": [],
   "source": [
    "min_z = -2\n",
    "max_z = 1.5\n",
    "mins = np.array([-100, -100])\n",
    "maxs = np.array([100, 100])"
   ]
  },
  {
   "cell_type": "code",
   "execution_count": null,
   "metadata": {},
   "outputs": [],
   "source": [
    "navigable_mask = np.ones(samples.shape[0]).astype(bool)\n",
    "navigable_mask &= np.less(samples[:, 2], max_z) & np.greater(samples[:, 2], min_z)\n",
    "navigable_mask &= np.less(samples[:, :2], maxs).all(axis=1) & np.greater(samples[:, :2], mins).all(axis=1)\n",
    "samples = samples[navigable_mask, :]"
   ]
  },
  {
   "cell_type": "code",
   "execution_count": null,
   "metadata": {},
   "outputs": [],
   "source": [
    "plt.scatter(samples[:, 0], samples[:, 1], c=samples[:, 2])\n",
    "plt.show()"
   ]
  },
  {
   "cell_type": "code",
   "execution_count": null,
   "metadata": {},
   "outputs": [],
   "source": [
    "cats = {obj.category.name() for obj in scene.objects if obj is not None and obj.category.name() != ''}\n",
    "idx_of_cat = {x: i for i, x in enumerate(cats)}"
   ]
  },
  {
   "cell_type": "code",
   "execution_count": null,
   "metadata": {},
   "outputs": [],
   "source": [
    "n_objects = len(idx_of_cat)\n",
    "n_objects"
   ]
  },
  {
   "cell_type": "code",
   "execution_count": null,
   "metadata": {},
   "outputs": [],
   "source": [
    "poses_of_cat = collections.defaultdict(list)\n",
    "for i, obj in enumerate(scene.objects):\n",
    "  if obj is None:\n",
    "    continue\n",
    "  cat = obj.category.name()\n",
    "  if cat not in idx_of_cat:\n",
    "    continue\n",
    "  obj_pos = obj.aabb.center[[0, 2]]\n",
    "  poses_of_cat[cat].append(obj_pos)\n",
    "  sizes = obj.aabb.sizes[[0, 2]]\n",
    "  for x in np.arange(obj_pos[0]-sizes[0]/2, obj_pos[0]+sizes[0]/2, 0.1):\n",
    "    for y in np.arange(obj_pos[1]-sizes[1]/2, obj_pos[1]+sizes[1]/2, 0.1):\n",
    "      poses_of_cat[cat].append(np.array([x, y]))\n",
    "  poses_of_cat[cat].append(obj_pos)\n",
    "poses_of_cat = {k: np.array(v) for k, v in poses_of_cat.items()}"
   ]
  },
  {
   "cell_type": "code",
   "execution_count": null,
   "metadata": {
    "scrolled": true
   },
   "outputs": [],
   "source": [
    "for cat, poses in poses_of_cat.items():\n",
    "  plt.title(cat)\n",
    "  plt.scatter(samples[:, 0], samples[:, 1], color='gray', alpha=0.5)\n",
    "  plt.scatter(poses[:, 0], poses[:, 1], color='red', s=1)\n",
    "  plt.xlim([np.min(samples[:, 0]), np.max(samples[:, 0])])\n",
    "  plt.ylim([np.min(samples[:, 1]), np.max(samples[:, 1])])\n",
    "  plt.show()"
   ]
  },
  {
   "cell_type": "code",
   "execution_count": null,
   "metadata": {},
   "outputs": [],
   "source": [
    "def viz_cat_locs(cats, cat_colors):\n",
    "  plt.axis('off')\n",
    "  plt.scatter(samples[:, 0], samples[:, 1], color='lightgray', alpha=0.25)\n",
    "  for cat, cat_color in zip(cats, cat_colors):\n",
    "    poses = poses_of_cat[cat]\n",
    "    plt.scatter(poses[:, 0], poses[:, 1], color=cat_color, s=1)\n",
    "  plt.xlim([np.min(samples[:, 0]), np.max(samples[:, 0])])\n",
    "  plt.ylim([np.min(samples[:, 1]), np.max(samples[:, 1])])\n",
    "  plt.show()"
   ]
  },
  {
   "cell_type": "code",
   "execution_count": null,
   "metadata": {},
   "outputs": [],
   "source": [
    "viz_cat_locs(['floor', 'bed'], ['gray', 'orange'])"
   ]
  },
  {
   "cell_type": "code",
   "execution_count": null,
   "metadata": {},
   "outputs": [],
   "source": [
    "layout_path = os.path.join(utils.hab_data_dir, 'layout.pkl')"
   ]
  },
  {
   "cell_type": "code",
   "execution_count": null,
   "metadata": {},
   "outputs": [],
   "source": [
    "with open(layout_path, 'wb') as f:\n",
    "  pickle.dump((samples, poses_of_cat), f, pickle.HIGHEST_PROTOCOL)"
   ]
  },
  {
   "cell_type": "code",
   "execution_count": null,
   "metadata": {},
   "outputs": [],
   "source": []
  }
 ],
 "metadata": {
  "kernelspec": {
   "display_name": "Python 3",
   "language": "python",
   "name": "python3"
  },
  "language_info": {
   "codemirror_mode": {
    "name": "ipython",
    "version": 3
   },
   "file_extension": ".py",
   "mimetype": "text/x-python",
   "name": "python",
   "nbconvert_exporter": "python",
   "pygments_lexer": "ipython3",
   "version": "3.6.10"
  },
  "widgets": {
   "state": {},
   "version": "1.1.2"
  }
 },
 "nbformat": 4,
 "nbformat_minor": 2
}
