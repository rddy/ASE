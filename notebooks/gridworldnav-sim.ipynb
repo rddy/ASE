{
 "cells": [
  {
   "cell_type": "code",
   "execution_count": null,
   "metadata": {
    "scrolled": false
   },
   "outputs": [],
   "source": [
    "%load_ext autoreload\n",
    "%autoreload 2"
   ]
  },
  {
   "cell_type": "code",
   "execution_count": null,
   "metadata": {
    "scrolled": false
   },
   "outputs": [],
   "source": [
    "from __future__ import division\n",
    "\n",
    "import pickle\n",
    "import os\n",
    "from copy import deepcopy\n",
    "import uuid\n",
    "\n",
    "import numpy as np\n",
    "\n",
    "from sensei import utils\n",
    "from sensei.user_models import GridWorldNavUser\n",
    "from sensei.guide_models import GridWorldGuide\n",
    "from sensei.envs import GridWorldNavEnv, GuideEnv\n",
    "from sensei import ase"
   ]
  },
  {
   "cell_type": "code",
   "execution_count": null,
   "metadata": {
    "scrolled": true
   },
   "outputs": [],
   "source": [
    "from matplotlib import pyplot as plt\n",
    "import matplotlib as mpl\n",
    "%matplotlib inline"
   ]
  },
  {
   "cell_type": "code",
   "execution_count": null,
   "metadata": {
    "scrolled": false
   },
   "outputs": [],
   "source": [
    "import warnings\n",
    "warnings.filterwarnings('ignore')"
   ]
  },
  {
   "cell_type": "code",
   "execution_count": null,
   "metadata": {
    "scrolled": false
   },
   "outputs": [],
   "source": [
    "sess = utils.make_tf_session(gpu_mode=False)"
   ]
  },
  {
   "cell_type": "code",
   "execution_count": null,
   "metadata": {},
   "outputs": [],
   "source": [
    "data_dir = utils.gw_data_dir\n",
    "fig_dir = os.path.join(data_dir, 'figures')"
   ]
  },
  {
   "cell_type": "markdown",
   "metadata": {},
   "source": [
    "create habitat env"
   ]
  },
  {
   "cell_type": "code",
   "execution_count": null,
   "metadata": {
    "scrolled": false
   },
   "outputs": [],
   "source": [
    "gw_size = 5\n",
    "n_goals = 25"
   ]
  },
  {
   "cell_type": "code",
   "execution_count": null,
   "metadata": {},
   "outputs": [],
   "source": [
    "n_states = 4*gw_size**2\n",
    "ground_truth_obs_model = np.eye(n_states)\n",
    "ground_truth_obs_model = utils.smooth_matrix(ground_truth_obs_model, n_states, eps=0.1)\n",
    "ground_truth_obs_model = np.log(ground_truth_obs_model)"
   ]
  },
  {
   "cell_type": "code",
   "execution_count": null,
   "metadata": {},
   "outputs": [],
   "source": [
    "plt.ylabel('observation')\n",
    "plt.xlabel('state')\n",
    "plt.imshow(ground_truth_obs_model)\n",
    "plt.show()"
   ]
  },
  {
   "cell_type": "code",
   "execution_count": null,
   "metadata": {
    "scrolled": true
   },
   "outputs": [],
   "source": [
    "env = GridWorldNavEnv(\n",
    "  gw_size=gw_size,\n",
    "  n_goals=n_goals,\n",
    "  max_ep_len=25,\n",
    "  ground_truth_obs_model=ground_truth_obs_model\n",
    ")"
   ]
  },
  {
   "cell_type": "code",
   "execution_count": null,
   "metadata": {},
   "outputs": [],
   "source": [
    "cache_path = os.path.join(data_dir, 'env.pkl')"
   ]
  },
  {
   "cell_type": "code",
   "execution_count": null,
   "metadata": {},
   "outputs": [],
   "source": [
    "env.save_to_cache(cache_path)"
   ]
  },
  {
   "cell_type": "code",
   "execution_count": null,
   "metadata": {},
   "outputs": [],
   "source": [
    "env.load_from_cache(cache_path)"
   ]
  },
  {
   "cell_type": "markdown",
   "metadata": {},
   "source": [
    "create guide"
   ]
  },
  {
   "cell_type": "code",
   "execution_count": null,
   "metadata": {
    "scrolled": false
   },
   "outputs": [],
   "source": [
    "ground_truth_obs_model = env.ground_truth_obs_model\n",
    "dynamics_model = env.make_dynamics_model(eps=1e-9)\n",
    "q_func = env.Q"
   ]
  },
  {
   "cell_type": "code",
   "execution_count": null,
   "metadata": {},
   "outputs": [],
   "source": [
    "init_belief_conf = 1-1e-9"
   ]
  },
  {
   "cell_type": "code",
   "execution_count": null,
   "metadata": {
    "scrolled": false
   },
   "outputs": [],
   "source": [
    "ideal_user_model = GridWorldNavUser(\n",
    "  env, \n",
    "  ground_truth_obs_model, \n",
    "  dynamics_model, \n",
    "  q_func=q_func,\n",
    "  init_belief_conf=init_belief_conf\n",
    ")"
   ]
  },
  {
   "cell_type": "code",
   "execution_count": null,
   "metadata": {},
   "outputs": [],
   "source": [
    "internal_dynamics_model = env.make_dynamics_model(eps=0.2)"
   ]
  },
  {
   "cell_type": "code",
   "execution_count": null,
   "metadata": {
    "scrolled": false
   },
   "outputs": [],
   "source": [
    "internal_obs_model = np.zeros(env.ground_truth_obs_model.shape)\n",
    "idxes = np.arange(0, env.n_states, 1)\n",
    "internal_obs_model[-idxes-1, idxes] = 1\n",
    "internal_obs_model = utils.smooth_matrix(internal_obs_model, env.n_states)\n",
    "internal_obs_model = np.log(internal_obs_model)"
   ]
  },
  {
   "cell_type": "code",
   "execution_count": null,
   "metadata": {},
   "outputs": [],
   "source": [
    "plt.ylabel('observation')\n",
    "plt.xlabel('state')\n",
    "plt.imshow(internal_obs_model)\n",
    "plt.show()"
   ]
  },
  {
   "cell_type": "code",
   "execution_count": null,
   "metadata": {},
   "outputs": [],
   "source": [
    "user_init_belief_conf = 1-1e-9"
   ]
  },
  {
   "cell_type": "code",
   "execution_count": null,
   "metadata": {},
   "outputs": [],
   "source": [
    "user_model = GridWorldNavUser(\n",
    "  env, \n",
    "  internal_obs_model, \n",
    "  internal_dynamics_model, \n",
    "  q_func=q_func,\n",
    "  init_belief_conf=user_init_belief_conf\n",
    ")"
   ]
  },
  {
   "cell_type": "code",
   "execution_count": null,
   "metadata": {
    "scrolled": false
   },
   "outputs": [],
   "source": [
    "guide_env = GuideEnv(env, user_model, n_obs_per_act=1)"
   ]
  },
  {
   "cell_type": "code",
   "execution_count": null,
   "metadata": {
    "scrolled": false
   },
   "outputs": [],
   "source": [
    "iden_guide_policy = lambda obs, info: obs\n",
    "iden_guide_policy = utils.StutteredPolicy(iden_guide_policy, guide_env.n_obs_per_act)\n",
    "unif_guide_policy = lambda obs, info: np.random.choice(env.n_obses)\n",
    "unif_guide_policy = utils.StutteredPolicy(unif_guide_policy, guide_env.n_obs_per_act)"
   ]
  },
  {
   "cell_type": "code",
   "execution_count": null,
   "metadata": {
    "scrolled": true
   },
   "outputs": [],
   "source": [
    "oracle_guide_model = GridWorldGuide(\n",
    "  sess, \n",
    "  env, \n",
    "  ground_truth_obs_model, \n",
    "  dynamics_model, \n",
    "  q_func,\n",
    "  n_obs_per_act=guide_env.n_obs_per_act,\n",
    "  internal_dynamics_model=internal_dynamics_model,\n",
    "  prior_internal_obs_model=internal_obs_model,\n",
    "  learn_internal_obs_model=False,\n",
    "  init_belief_conf=init_belief_conf,\n",
    "  user_init_belief_conf=user_init_belief_conf\n",
    ")\n",
    "\n",
    "naive_guide_model = GridWorldGuide(\n",
    "  sess, \n",
    "  env, \n",
    "  ground_truth_obs_model, \n",
    "  dynamics_model, \n",
    "  q_func,\n",
    "  n_obs_per_act=guide_env.n_obs_per_act,\n",
    "  internal_dynamics_model=internal_dynamics_model,\n",
    "  prior_internal_obs_model=ground_truth_obs_model,\n",
    "  learn_internal_obs_model=False,\n",
    "  init_belief_conf=init_belief_conf,\n",
    "  user_init_belief_conf=user_init_belief_conf\n",
    ")"
   ]
  },
  {
   "cell_type": "markdown",
   "metadata": {},
   "source": [
    "sanity-check envs, agents"
   ]
  },
  {
   "cell_type": "code",
   "execution_count": null,
   "metadata": {},
   "outputs": [],
   "source": [
    "env.reset_init_order()"
   ]
  },
  {
   "cell_type": "code",
   "execution_count": null,
   "metadata": {
    "scrolled": false
   },
   "outputs": [],
   "source": [
    "rollout = utils.run_ep(env.oracle_policy, env, render=True)"
   ]
  },
  {
   "cell_type": "code",
   "execution_count": null,
   "metadata": {
    "scrolled": true
   },
   "outputs": [],
   "source": [
    "env.close()"
   ]
  },
  {
   "cell_type": "code",
   "execution_count": null,
   "metadata": {
    "scrolled": false
   },
   "outputs": [],
   "source": [
    "rollout = utils.run_ep(ideal_user_model, env, render=True)"
   ]
  },
  {
   "cell_type": "code",
   "execution_count": null,
   "metadata": {
    "scrolled": false
   },
   "outputs": [],
   "source": [
    "env.close()"
   ]
  },
  {
   "cell_type": "code",
   "execution_count": null,
   "metadata": {
    "scrolled": true
   },
   "outputs": [],
   "source": [
    "rollout = utils.run_ep(user_model, env, render=True)"
   ]
  },
  {
   "cell_type": "code",
   "execution_count": null,
   "metadata": {
    "scrolled": false
   },
   "outputs": [],
   "source": [
    "env.close()"
   ]
  },
  {
   "cell_type": "code",
   "execution_count": null,
   "metadata": {
    "scrolled": true
   },
   "outputs": [],
   "source": [
    "rollout = utils.run_ep(iden_guide_policy, guide_env, render=True)"
   ]
  },
  {
   "cell_type": "code",
   "execution_count": null,
   "metadata": {
    "scrolled": true
   },
   "outputs": [],
   "source": [
    "guide_env.close()"
   ]
  },
  {
   "cell_type": "code",
   "execution_count": null,
   "metadata": {
    "scrolled": true
   },
   "outputs": [],
   "source": [
    "rollout = utils.run_ep(unif_guide_policy, guide_env, render=True)"
   ]
  },
  {
   "cell_type": "code",
   "execution_count": null,
   "metadata": {
    "scrolled": false
   },
   "outputs": [],
   "source": [
    "guide_env.close()"
   ]
  },
  {
   "cell_type": "code",
   "execution_count": null,
   "metadata": {
    "scrolled": true
   },
   "outputs": [],
   "source": [
    "rollout = utils.run_ep(oracle_guide_model, guide_env, render=True)"
   ]
  },
  {
   "cell_type": "code",
   "execution_count": null,
   "metadata": {
    "scrolled": false
   },
   "outputs": [],
   "source": [
    "guide_env.close()"
   ]
  },
  {
   "cell_type": "code",
   "execution_count": null,
   "metadata": {
    "scrolled": false
   },
   "outputs": [],
   "source": [
    "rollout = utils.run_ep(naive_guide_model, guide_env, render=True)"
   ]
  },
  {
   "cell_type": "code",
   "execution_count": null,
   "metadata": {
    "scrolled": false
   },
   "outputs": [],
   "source": [
    "guide_env.close()"
   ]
  },
  {
   "cell_type": "markdown",
   "metadata": {},
   "source": [
    "evaluate baselines"
   ]
  },
  {
   "cell_type": "code",
   "execution_count": null,
   "metadata": {
    "scrolled": false
   },
   "outputs": [],
   "source": [
    "guides = {\n",
    "  'iden': iden_guide_policy,\n",
    "  'oracle': oracle_guide_model,\n",
    "  'unif': unif_guide_policy,\n",
    "  'naive': naive_guide_model\n",
    "}"
   ]
  },
  {
   "cell_type": "code",
   "execution_count": null,
   "metadata": {
    "scrolled": true
   },
   "outputs": [],
   "source": [
    "baseline_guide_evals = ase.evaluate_baseline_guides(\n",
    "  sess, \n",
    "  guide_env, \n",
    "  guides, \n",
    "  n_eval_rollouts=100\n",
    ")"
   ]
  },
  {
   "cell_type": "code",
   "execution_count": null,
   "metadata": {
    "scrolled": false
   },
   "outputs": [],
   "source": [
    "baselines_eval_path = os.path.join(data_dir, 'baselines_eval.pkl')"
   ]
  },
  {
   "cell_type": "code",
   "execution_count": null,
   "metadata": {
    "scrolled": false
   },
   "outputs": [],
   "source": [
    "with open(baselines_eval_path, 'wb') as f:\n",
    "  pickle.dump(baseline_guide_evals, f, pickle.HIGHEST_PROTOCOL)"
   ]
  },
  {
   "cell_type": "code",
   "execution_count": null,
   "metadata": {
    "scrolled": false
   },
   "outputs": [],
   "source": [
    "with open(baselines_eval_path, 'rb') as f:\n",
    "  baseline_guide_evals = pickle.load(f)"
   ]
  },
  {
   "cell_type": "code",
   "execution_count": null,
   "metadata": {
    "scrolled": true
   },
   "outputs": [],
   "source": [
    "for k, v in baseline_guide_evals.items():\n",
    "  print(k, {x: y for x, y in v['perf'].items() if not x.endswith('_t')})"
   ]
  },
  {
   "cell_type": "markdown",
   "metadata": {},
   "source": [
    "fit internal obs model"
   ]
  },
  {
   "cell_type": "code",
   "execution_count": null,
   "metadata": {
    "scrolled": true
   },
   "outputs": [],
   "source": [
    "unassisted_train_rollouts = utils.evaluate_policy(\n",
    "  sess,\n",
    "  guide_env,\n",
    "  iden_guide_policy,\n",
    "  n_eval_rollouts=50\n",
    ")['rollouts']"
   ]
  },
  {
   "cell_type": "code",
   "execution_count": null,
   "metadata": {},
   "outputs": [],
   "source": [
    "unassisted_rollouts_path = os.path.join(data_dir, 'unassisted_rollouts.pkl')"
   ]
  },
  {
   "cell_type": "code",
   "execution_count": null,
   "metadata": {},
   "outputs": [],
   "source": [
    "with open(unassisted_rollouts_path, 'wb') as f:\n",
    "  pickle.dump(unassisted_train_rollouts, f, pickle.HIGHEST_PROTOCOL)"
   ]
  },
  {
   "cell_type": "code",
   "execution_count": null,
   "metadata": {},
   "outputs": [],
   "source": [
    "with open(unassisted_rollouts_path, 'rb') as f:\n",
    "  unassisted_train_rollouts = pickle.load(f)"
   ]
  },
  {
   "cell_type": "code",
   "execution_count": null,
   "metadata": {},
   "outputs": [],
   "source": [
    "init_train_rollouts = unassisted_train_rollouts"
   ]
  },
  {
   "cell_type": "code",
   "execution_count": null,
   "metadata": {
    "scrolled": true
   },
   "outputs": [],
   "source": [
    "tabular_obs_model_kwargs = {\n",
    "  'scope_file': os.path.join(data_dir, 'guide_scope.pkl'),\n",
    "  'tf_file': os.path.join(data_dir, 'guide.tf'),\n",
    "  'user_init_belief_conf': user_init_belief_conf,\n",
    "  'obs_params_only': False,\n",
    "  'prior_coeff': 0.,\n",
    "  'warm_start': False\n",
    "}\n",
    "\n",
    "guide_train_kwargs = {\n",
    "  'iterations': 2000,\n",
    "  'ftol': 1e-4,\n",
    "  'batch_size': 32,\n",
    "  'learning_rate': 1e-2,\n",
    "  'val_update_freq': 10,\n",
    "  'verbose': True\n",
    "}\n",
    "\n",
    "guide_model = GridWorldGuide(\n",
    "  sess, \n",
    "  env, \n",
    "  ground_truth_obs_model, \n",
    "  dynamics_model, \n",
    "  q_func,\n",
    "  n_obs_per_act=guide_env.n_obs_per_act, \n",
    "  prior_internal_obs_model=ground_truth_obs_model,\n",
    "  internal_dynamics_model=internal_dynamics_model,\n",
    "  tabular_obs_model_kwargs=tabular_obs_model_kwargs,\n",
    "  learn_internal_obs_model=True,\n",
    "  init_belief_conf=init_belief_conf,\n",
    "  user_init_belief_conf=user_init_belief_conf\n",
    ")"
   ]
  },
  {
   "cell_type": "code",
   "execution_count": null,
   "metadata": {},
   "outputs": [],
   "source": [
    "guide_optimizer = ase.InteractiveGuideOptimizer(sess, env, guide_env)"
   ]
  },
  {
   "cell_type": "code",
   "execution_count": null,
   "metadata": {},
   "outputs": [],
   "source": [
    "n_reps = 5"
   ]
  },
  {
   "cell_type": "code",
   "execution_count": null,
   "metadata": {
    "scrolled": true
   },
   "outputs": [],
   "source": [
    "train_logs = [guide_optimizer.run(\n",
    "  guide_model, \n",
    "  n_train_batches=20, \n",
    "  n_rollouts_per_batch=50, \n",
    "  guide_train_kwargs=guide_train_kwargs,\n",
    "  verbose=True,\n",
    "  init_train_rollouts=init_train_rollouts,\n",
    "  n_eval_rollouts=100\n",
    ") for _ in range(n_reps)]"
   ]
  },
  {
   "cell_type": "code",
   "execution_count": null,
   "metadata": {},
   "outputs": [],
   "source": [
    "train_logs_path = os.path.join(data_dir, 'train_logs.pkl')"
   ]
  },
  {
   "cell_type": "code",
   "execution_count": null,
   "metadata": {
    "scrolled": false
   },
   "outputs": [],
   "source": [
    "with open(train_logs_path, 'wb') as f:\n",
    "  pickle.dump(train_logs, f, pickle.HIGHEST_PROTOCOL)"
   ]
  },
  {
   "cell_type": "code",
   "execution_count": null,
   "metadata": {
    "scrolled": false
   },
   "outputs": [],
   "source": [
    "with open(train_logs_path, 'rb') as f:\n",
    "  train_logs = pickle.load(f)"
   ]
  },
  {
   "cell_type": "code",
   "execution_count": null,
   "metadata": {},
   "outputs": [],
   "source": [
    "mpl.rcParams.update({'font.size': 14})"
   ]
  },
  {
   "cell_type": "code",
   "execution_count": null,
   "metadata": {},
   "outputs": [],
   "source": [
    "for metric in ['succ', 'user_belief_in_true_state']:\n",
    "  plt.title('2D Navigation')\n",
    "  plt.xlabel('Number of Training Rollouts')\n",
    "  plt.ylabel(utils.label_of_perf_met[metric])\n",
    "  \n",
    "  for guide_name, guide_eval in baseline_guide_evals.items():\n",
    "    if guide_name == 'oracle':\n",
    "      continue\n",
    "    ys = guide_eval['perf'][metric]\n",
    "    label = utils.label_of_guide[guide_name]\n",
    "    if guide_name == 'naive':\n",
    "      label = 'Naive ASE (Baseline)'\n",
    "    color = utils.color_of_guide[guide_name]\n",
    "    linestyle = '-' if guide_name == 'oracle' else '--'\n",
    "    plt.axhline(y=baseline_guide_evals[guide_name]['perf'][metric], label=label, color=color, linestyle=linestyle, linewidth=2)\n",
    "  \n",
    "  guide_name = 'learned'\n",
    "  label = utils.label_of_guide[guide_name]\n",
    "  color = utils.color_of_guide[guide_name]\n",
    "  utils.plot_perf_evals([train_log['guide_perf_evals'] for train_log in train_logs], 'n_train_rollouts', metric, color=color, label=label)\n",
    "  \n",
    "  plt.legend(loc='lower right', prop={'size': 12})\n",
    "  save_path = os.path.join(fig_dir, 'gw_%s_vs_trainsize.pdf' % metric)\n",
    "  plt.savefig(save_path, bbox_inches='tight')\n",
    "  plt.show()"
   ]
  },
  {
   "cell_type": "code",
   "execution_count": null,
   "metadata": {},
   "outputs": [],
   "source": []
  },
  {
   "cell_type": "code",
   "execution_count": null,
   "metadata": {},
   "outputs": [],
   "source": [
    "guide_model.internal_obs_model.obs_logits_eval = guide_model.internal_obs_model.sess.run(guide_model.internal_obs_model.obs_logits)\n",
    "learned_obs_model = np.mean(np.exp(guide_model.internal_obs_model.obs_logits_eval), axis=0)"
   ]
  },
  {
   "cell_type": "code",
   "execution_count": null,
   "metadata": {},
   "outputs": [],
   "source": [
    "plt.hist(learned_obs_model.ravel(), bins=20)\n",
    "plt.show()"
   ]
  },
  {
   "cell_type": "code",
   "execution_count": null,
   "metadata": {},
   "outputs": [],
   "source": [
    "for i, x in enumerate(np.argmax(learned_obs_model, axis=0)[::-1]):\n",
    "  print('%d %d' % (i, x))"
   ]
  },
  {
   "cell_type": "code",
   "execution_count": null,
   "metadata": {},
   "outputs": [],
   "source": [
    "plt.imshow(learned_obs_model)\n",
    "plt.show()"
   ]
  },
  {
   "cell_type": "code",
   "execution_count": null,
   "metadata": {
    "scrolled": true
   },
   "outputs": [],
   "source": []
  }
 ],
 "metadata": {
  "kernelspec": {
   "display_name": "Python 3",
   "language": "python",
   "name": "python3"
  },
  "language_info": {
   "codemirror_mode": {
    "name": "ipython",
    "version": 3
   },
   "file_extension": ".py",
   "mimetype": "text/x-python",
   "name": "python",
   "nbconvert_exporter": "python",
   "pygments_lexer": "ipython3",
   "version": "3.6.10"
  },
  "widgets": {
   "state": {},
   "version": "1.1.2"
  }
 },
 "nbformat": 4,
 "nbformat_minor": 2
}
